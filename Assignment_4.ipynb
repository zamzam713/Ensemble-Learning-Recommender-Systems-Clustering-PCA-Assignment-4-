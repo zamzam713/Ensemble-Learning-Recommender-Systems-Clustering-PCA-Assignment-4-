{
  "cells": [
    {
      "cell_type": "markdown",
      "metadata": {
        "id": "oH2pBF5b0cNU"
      },
      "source": [
        "# Assignment: Ensemble Learning, Recommender Systems, Clustering and PCA"
      ]
    },
    {
      "cell_type": "markdown",
      "metadata": {
        "id": "tnjgERuI0cNe"
      },
      "source": [
        "## Exercise 1: Adaboost"
      ]
    },
    {
      "cell_type": "markdown",
      "metadata": {
        "id": "lxm6-vbW0cNg"
      },
      "source": [
        "Consider the training file provided adaboost-training.csv. It consists of three columns: a tweet id, a tweet text and a label (one of four labels). Your goal is to build a multi-class classifier that can predict the label of a given tweet.\n",
        "\n",
        "First, perform some pre-processing of the data by stemming, removing stop-words, etc and use tf-idf for term representation.\n"
      ]
    },
    {
      "cell_type": "markdown",
      "metadata": {
        "id": "P1hNP-Cz0cNh"
      },
      "source": [
        "### Import Libraries"
      ]
    },
    {
      "cell_type": "code",
      "execution_count": 11,
      "metadata": {
        "collapsed": true,
        "colab": {
          "base_uri": "https://localhost:8080/"
        },
        "id": "onB8iT5O0cNi",
        "outputId": "211fabe6-b175-482a-cd1e-3f0bfb3088bb"
      },
      "outputs": [
        {
          "output_type": "stream",
          "name": "stderr",
          "text": [
            "[nltk_data] Downloading package stopwords to /root/nltk_data...\n",
            "[nltk_data]   Package stopwords is already up-to-date!\n",
            "[nltk_data] Downloading package punkt to /root/nltk_data...\n",
            "[nltk_data]   Unzipping tokenizers/punkt.zip.\n"
          ]
        },
        {
          "output_type": "execute_result",
          "data": {
            "text/plain": [
              "True"
            ]
          },
          "metadata": {},
          "execution_count": 11
        }
      ],
      "source": [
        "import nltk\n",
        "import sklearn\n",
        "import numpy as np\n",
        "import pandas as pd\n",
        "import pickle\n",
        "import matplotlib.pyplot as plt\n",
        "\n",
        "from sklearn.model_selection import train_test_split\n",
        "from sklearn.feature_extraction.text import CountVectorizer\n",
        "from sklearn.model_selection import learning_curve\n",
        "from sklearn.feature_extraction.text import TfidfVectorizer\n",
        "from sklearn.metrics import f1_score\n",
        "from sklearn.metrics import accuracy_score\n",
        "from sklearn.preprocessing import LabelEncoder, OneHotEncoder\n",
        "from sklearn.model_selection import GridSearchCV\n",
        "\n",
        "from nltk.corpus import stopwords\n",
        "from nltk.tokenize import word_tokenize\n",
        "from nltk.stem import PorterStemmer\n",
        "\n",
        "from sklearn.ensemble import AdaBoostClassifier\n",
        "from sklearn.linear_model import LogisticRegression\n",
        "nltk.download('stopwords')\n",
        "nltk.download('punkt')\n"
      ]
    },
    {
      "cell_type": "markdown",
      "metadata": {
        "id": "zxJOSlGB0cNm"
      },
      "source": [
        "### Load Data"
      ]
    },
    {
      "cell_type": "code",
      "execution_count": 12,
      "metadata": {
        "collapsed": true,
        "colab": {
          "base_uri": "https://localhost:8080/",
          "height": 363
        },
        "id": "klcy72_60cNo",
        "outputId": "ca65b361-8dbe-49de-f9d4-9aa0bb1c97fd"
      },
      "outputs": [
        {
          "output_type": "execute_result",
          "data": {
            "text/plain": [
              "      0                                                  1                   2\n",
              "0   '1'  Yesterday was supposed to be 70 and sunny/cold...  caution and advice\n",
              "1   '2'   @Juss2Live: News was goin crazy about tornado...  caution and advice\n",
              "2   '3'   @spann: Everybody on the campus of the Univer...  caution and advice\n",
              "3   '4'    Almyra Arkansas tornado about to hit the ground  caution and advice\n",
              "4   '5'  I hear the tornado sires going off now.  Build...  caution and advice\n",
              "5   '6'  Tornado watch canceled for Douglas County Cole...  caution and advice\n",
              "6   '7'  In the U.S. they have tornado watch.. In Saint...  caution and advice\n",
              "7   '8'  At mssu for memorial service. #Joplin #superwindy  caution and advice\n",
              "8   '9'  Thank god possible tornado moved away from thi...  caution and advice\n",
              "9  '10'  Tornado headed toward us.... we're closing dow...  caution and advice"
            ],
            "text/html": [
              "\n",
              "  <div id=\"df-ad89fe58-5606-4691-904e-a1a3d8597fd0\" class=\"colab-df-container\">\n",
              "    <div>\n",
              "<style scoped>\n",
              "    .dataframe tbody tr th:only-of-type {\n",
              "        vertical-align: middle;\n",
              "    }\n",
              "\n",
              "    .dataframe tbody tr th {\n",
              "        vertical-align: top;\n",
              "    }\n",
              "\n",
              "    .dataframe thead th {\n",
              "        text-align: right;\n",
              "    }\n",
              "</style>\n",
              "<table border=\"1\" class=\"dataframe\">\n",
              "  <thead>\n",
              "    <tr style=\"text-align: right;\">\n",
              "      <th></th>\n",
              "      <th>0</th>\n",
              "      <th>1</th>\n",
              "      <th>2</th>\n",
              "    </tr>\n",
              "  </thead>\n",
              "  <tbody>\n",
              "    <tr>\n",
              "      <th>0</th>\n",
              "      <td>'1'</td>\n",
              "      <td>Yesterday was supposed to be 70 and sunny/cold...</td>\n",
              "      <td>caution and advice</td>\n",
              "    </tr>\n",
              "    <tr>\n",
              "      <th>1</th>\n",
              "      <td>'2'</td>\n",
              "      <td>@Juss2Live: News was goin crazy about tornado...</td>\n",
              "      <td>caution and advice</td>\n",
              "    </tr>\n",
              "    <tr>\n",
              "      <th>2</th>\n",
              "      <td>'3'</td>\n",
              "      <td>@spann: Everybody on the campus of the Univer...</td>\n",
              "      <td>caution and advice</td>\n",
              "    </tr>\n",
              "    <tr>\n",
              "      <th>3</th>\n",
              "      <td>'4'</td>\n",
              "      <td>Almyra Arkansas tornado about to hit the ground</td>\n",
              "      <td>caution and advice</td>\n",
              "    </tr>\n",
              "    <tr>\n",
              "      <th>4</th>\n",
              "      <td>'5'</td>\n",
              "      <td>I hear the tornado sires going off now.  Build...</td>\n",
              "      <td>caution and advice</td>\n",
              "    </tr>\n",
              "    <tr>\n",
              "      <th>5</th>\n",
              "      <td>'6'</td>\n",
              "      <td>Tornado watch canceled for Douglas County Cole...</td>\n",
              "      <td>caution and advice</td>\n",
              "    </tr>\n",
              "    <tr>\n",
              "      <th>6</th>\n",
              "      <td>'7'</td>\n",
              "      <td>In the U.S. they have tornado watch.. In Saint...</td>\n",
              "      <td>caution and advice</td>\n",
              "    </tr>\n",
              "    <tr>\n",
              "      <th>7</th>\n",
              "      <td>'8'</td>\n",
              "      <td>At mssu for memorial service. #Joplin #superwindy</td>\n",
              "      <td>caution and advice</td>\n",
              "    </tr>\n",
              "    <tr>\n",
              "      <th>8</th>\n",
              "      <td>'9'</td>\n",
              "      <td>Thank god possible tornado moved away from thi...</td>\n",
              "      <td>caution and advice</td>\n",
              "    </tr>\n",
              "    <tr>\n",
              "      <th>9</th>\n",
              "      <td>'10'</td>\n",
              "      <td>Tornado headed toward us.... we're closing dow...</td>\n",
              "      <td>caution and advice</td>\n",
              "    </tr>\n",
              "  </tbody>\n",
              "</table>\n",
              "</div>\n",
              "    <div class=\"colab-df-buttons\">\n",
              "\n",
              "  <div class=\"colab-df-container\">\n",
              "    <button class=\"colab-df-convert\" onclick=\"convertToInteractive('df-ad89fe58-5606-4691-904e-a1a3d8597fd0')\"\n",
              "            title=\"Convert this dataframe to an interactive table.\"\n",
              "            style=\"display:none;\">\n",
              "\n",
              "  <svg xmlns=\"http://www.w3.org/2000/svg\" height=\"24px\" viewBox=\"0 -960 960 960\">\n",
              "    <path d=\"M120-120v-720h720v720H120Zm60-500h600v-160H180v160Zm220 220h160v-160H400v160Zm0 220h160v-160H400v160ZM180-400h160v-160H180v160Zm440 0h160v-160H620v160ZM180-180h160v-160H180v160Zm440 0h160v-160H620v160Z\"/>\n",
              "  </svg>\n",
              "    </button>\n",
              "\n",
              "  <style>\n",
              "    .colab-df-container {\n",
              "      display:flex;\n",
              "      gap: 12px;\n",
              "    }\n",
              "\n",
              "    .colab-df-convert {\n",
              "      background-color: #E8F0FE;\n",
              "      border: none;\n",
              "      border-radius: 50%;\n",
              "      cursor: pointer;\n",
              "      display: none;\n",
              "      fill: #1967D2;\n",
              "      height: 32px;\n",
              "      padding: 0 0 0 0;\n",
              "      width: 32px;\n",
              "    }\n",
              "\n",
              "    .colab-df-convert:hover {\n",
              "      background-color: #E2EBFA;\n",
              "      box-shadow: 0px 1px 2px rgba(60, 64, 67, 0.3), 0px 1px 3px 1px rgba(60, 64, 67, 0.15);\n",
              "      fill: #174EA6;\n",
              "    }\n",
              "\n",
              "    .colab-df-buttons div {\n",
              "      margin-bottom: 4px;\n",
              "    }\n",
              "\n",
              "    [theme=dark] .colab-df-convert {\n",
              "      background-color: #3B4455;\n",
              "      fill: #D2E3FC;\n",
              "    }\n",
              "\n",
              "    [theme=dark] .colab-df-convert:hover {\n",
              "      background-color: #434B5C;\n",
              "      box-shadow: 0px 1px 3px 1px rgba(0, 0, 0, 0.15);\n",
              "      filter: drop-shadow(0px 1px 2px rgba(0, 0, 0, 0.3));\n",
              "      fill: #FFFFFF;\n",
              "    }\n",
              "  </style>\n",
              "\n",
              "    <script>\n",
              "      const buttonEl =\n",
              "        document.querySelector('#df-ad89fe58-5606-4691-904e-a1a3d8597fd0 button.colab-df-convert');\n",
              "      buttonEl.style.display =\n",
              "        google.colab.kernel.accessAllowed ? 'block' : 'none';\n",
              "\n",
              "      async function convertToInteractive(key) {\n",
              "        const element = document.querySelector('#df-ad89fe58-5606-4691-904e-a1a3d8597fd0');\n",
              "        const dataTable =\n",
              "          await google.colab.kernel.invokeFunction('convertToInteractive',\n",
              "                                                    [key], {});\n",
              "        if (!dataTable) return;\n",
              "\n",
              "        const docLinkHtml = 'Like what you see? Visit the ' +\n",
              "          '<a target=\"_blank\" href=https://colab.research.google.com/notebooks/data_table.ipynb>data table notebook</a>'\n",
              "          + ' to learn more about interactive tables.';\n",
              "        element.innerHTML = '';\n",
              "        dataTable['output_type'] = 'display_data';\n",
              "        await google.colab.output.renderOutput(dataTable, element);\n",
              "        const docLink = document.createElement('div');\n",
              "        docLink.innerHTML = docLinkHtml;\n",
              "        element.appendChild(docLink);\n",
              "      }\n",
              "    </script>\n",
              "  </div>\n",
              "\n",
              "\n",
              "<div id=\"df-a4aa6be2-f84f-4acf-8798-1f24da064f4e\">\n",
              "  <button class=\"colab-df-quickchart\" onclick=\"quickchart('df-a4aa6be2-f84f-4acf-8798-1f24da064f4e')\"\n",
              "            title=\"Suggest charts.\"\n",
              "            style=\"display:none;\">\n",
              "\n",
              "<svg xmlns=\"http://www.w3.org/2000/svg\" height=\"24px\"viewBox=\"0 0 24 24\"\n",
              "     width=\"24px\">\n",
              "    <g>\n",
              "        <path d=\"M19 3H5c-1.1 0-2 .9-2 2v14c0 1.1.9 2 2 2h14c1.1 0 2-.9 2-2V5c0-1.1-.9-2-2-2zM9 17H7v-7h2v7zm4 0h-2V7h2v10zm4 0h-2v-4h2v4z\"/>\n",
              "    </g>\n",
              "</svg>\n",
              "  </button>\n",
              "\n",
              "<style>\n",
              "  .colab-df-quickchart {\n",
              "      --bg-color: #E8F0FE;\n",
              "      --fill-color: #1967D2;\n",
              "      --hover-bg-color: #E2EBFA;\n",
              "      --hover-fill-color: #174EA6;\n",
              "      --disabled-fill-color: #AAA;\n",
              "      --disabled-bg-color: #DDD;\n",
              "  }\n",
              "\n",
              "  [theme=dark] .colab-df-quickchart {\n",
              "      --bg-color: #3B4455;\n",
              "      --fill-color: #D2E3FC;\n",
              "      --hover-bg-color: #434B5C;\n",
              "      --hover-fill-color: #FFFFFF;\n",
              "      --disabled-bg-color: #3B4455;\n",
              "      --disabled-fill-color: #666;\n",
              "  }\n",
              "\n",
              "  .colab-df-quickchart {\n",
              "    background-color: var(--bg-color);\n",
              "    border: none;\n",
              "    border-radius: 50%;\n",
              "    cursor: pointer;\n",
              "    display: none;\n",
              "    fill: var(--fill-color);\n",
              "    height: 32px;\n",
              "    padding: 0;\n",
              "    width: 32px;\n",
              "  }\n",
              "\n",
              "  .colab-df-quickchart:hover {\n",
              "    background-color: var(--hover-bg-color);\n",
              "    box-shadow: 0 1px 2px rgba(60, 64, 67, 0.3), 0 1px 3px 1px rgba(60, 64, 67, 0.15);\n",
              "    fill: var(--button-hover-fill-color);\n",
              "  }\n",
              "\n",
              "  .colab-df-quickchart-complete:disabled,\n",
              "  .colab-df-quickchart-complete:disabled:hover {\n",
              "    background-color: var(--disabled-bg-color);\n",
              "    fill: var(--disabled-fill-color);\n",
              "    box-shadow: none;\n",
              "  }\n",
              "\n",
              "  .colab-df-spinner {\n",
              "    border: 2px solid var(--fill-color);\n",
              "    border-color: transparent;\n",
              "    border-bottom-color: var(--fill-color);\n",
              "    animation:\n",
              "      spin 1s steps(1) infinite;\n",
              "  }\n",
              "\n",
              "  @keyframes spin {\n",
              "    0% {\n",
              "      border-color: transparent;\n",
              "      border-bottom-color: var(--fill-color);\n",
              "      border-left-color: var(--fill-color);\n",
              "    }\n",
              "    20% {\n",
              "      border-color: transparent;\n",
              "      border-left-color: var(--fill-color);\n",
              "      border-top-color: var(--fill-color);\n",
              "    }\n",
              "    30% {\n",
              "      border-color: transparent;\n",
              "      border-left-color: var(--fill-color);\n",
              "      border-top-color: var(--fill-color);\n",
              "      border-right-color: var(--fill-color);\n",
              "    }\n",
              "    40% {\n",
              "      border-color: transparent;\n",
              "      border-right-color: var(--fill-color);\n",
              "      border-top-color: var(--fill-color);\n",
              "    }\n",
              "    60% {\n",
              "      border-color: transparent;\n",
              "      border-right-color: var(--fill-color);\n",
              "    }\n",
              "    80% {\n",
              "      border-color: transparent;\n",
              "      border-right-color: var(--fill-color);\n",
              "      border-bottom-color: var(--fill-color);\n",
              "    }\n",
              "    90% {\n",
              "      border-color: transparent;\n",
              "      border-bottom-color: var(--fill-color);\n",
              "    }\n",
              "  }\n",
              "</style>\n",
              "\n",
              "  <script>\n",
              "    async function quickchart(key) {\n",
              "      const quickchartButtonEl =\n",
              "        document.querySelector('#' + key + ' button');\n",
              "      quickchartButtonEl.disabled = true;  // To prevent multiple clicks.\n",
              "      quickchartButtonEl.classList.add('colab-df-spinner');\n",
              "      try {\n",
              "        const charts = await google.colab.kernel.invokeFunction(\n",
              "            'suggestCharts', [key], {});\n",
              "      } catch (error) {\n",
              "        console.error('Error during call to suggestCharts:', error);\n",
              "      }\n",
              "      quickchartButtonEl.classList.remove('colab-df-spinner');\n",
              "      quickchartButtonEl.classList.add('colab-df-quickchart-complete');\n",
              "    }\n",
              "    (() => {\n",
              "      let quickchartButtonEl =\n",
              "        document.querySelector('#df-a4aa6be2-f84f-4acf-8798-1f24da064f4e button');\n",
              "      quickchartButtonEl.style.display =\n",
              "        google.colab.kernel.accessAllowed ? 'block' : 'none';\n",
              "    })();\n",
              "  </script>\n",
              "</div>\n",
              "    </div>\n",
              "  </div>\n"
            ]
          },
          "metadata": {},
          "execution_count": 12
        }
      ],
      "source": [
        "# loading data\n",
        "df = pd.read_csv('/content/adaboost-training.csv', header=None)\n",
        "df.head(10)"
      ]
    },
    {
      "cell_type": "markdown",
      "metadata": {
        "id": "uhsjMSoj0cNp"
      },
      "source": [
        "### Split Data"
      ]
    },
    {
      "cell_type": "markdown",
      "metadata": {
        "id": "a96VadOL0cNq"
      },
      "source": [
        "Split your data into 80% training and 20% validation."
      ]
    },
    {
      "cell_type": "code",
      "execution_count": 13,
      "metadata": {
        "collapsed": true,
        "id": "NDJ1wAcX0cNr"
      },
      "outputs": [],
      "source": [
        "# features\n",
        "x = df[1]\n",
        "#labels\n",
        "y = df[2]\n",
        "\n",
        "# splitting data into training and validation set\n",
        "x_train, x_val, y_train, y_val = train_test_split(x, y, test_size=0.2)"
      ]
    },
    {
      "cell_type": "markdown",
      "metadata": {
        "id": "kEKIV2hp0cNs"
      },
      "source": [
        "### Process Data"
      ]
    },
    {
      "cell_type": "markdown",
      "metadata": {
        "id": "MnlvAvsW0cNs"
      },
      "source": [
        " Process your data by removing stop words, perform stemming and represent the data using tf-idf."
      ]
    },
    {
      "cell_type": "code",
      "execution_count": 14,
      "metadata": {
        "collapsed": true,
        "id": "Lr9SkFPI0cNt"
      },
      "outputs": [],
      "source": [
        "def preprocess(X):\n",
        "    ps = PorterStemmer()\n",
        "    stop_words = set(stopwords.words('english'))\n",
        "    X_preprocessed = []\n",
        "    for sentence in X:\n",
        "        preprocessed_sentence = ''\n",
        "        word_tokens = word_tokenize(sentence)\n",
        "        for word in word_tokens:\n",
        "            if not word in stop_words:\n",
        "                preprocessed_sentence += ps.stem(word) + ' '\n",
        "\n",
        "        X_preprocessed.append(preprocessed_sentence)\n",
        "\n",
        "    return X_preprocessed\n",
        "\n",
        "# preprocessing train and validation text data\n",
        "x_train = preprocess(x_train)\n",
        "x_val = preprocess(x_val)\n",
        "\n",
        "# tfidf vectorizer\n",
        "tfidf = TfidfVectorizer()\n",
        "# fitting vectorizer using x_train data and transforming x_train\n",
        "x_train_tfidf = tfidf.fit_transform(x_train)\n",
        "# transforming x_val\n",
        "x_val_tfidf = tfidf.transform(x_val)\n",
        "# creating the label encoder\n",
        "encoder = LabelEncoder()\n",
        "# encoding y_train labels\n",
        "y_train = encoder.fit_transform(y_train)\n",
        "# encoding y_val labels\n",
        "y_val = encoder.transform(y_val)"
      ]
    },
    {
      "cell_type": "markdown",
      "metadata": {
        "id": "fXE-et900cNt"
      },
      "source": [
        "### Train Adaboost"
      ]
    },
    {
      "cell_type": "markdown",
      "metadata": {
        "id": "MJaeFlaM0cNu"
      },
      "source": [
        "Train an Adaboost classifier with logistic regression as a base one. U\n",
        "se the validation set to optimize the hyperparameters of the model using GridSearch.\n",
        "<br>\n",
        "<a href=\"https://scikit-learn.org/stable/modules/generated/sklearn.ensemble.AdaBoostClassifier.html\"> Adaboost classifier</a>, you should pass <a href=\"https://scikit-learn.org/stable/modules/generated/sklearn.linear_model.LogisticRegression.html\"> Logistic Regression</a> as base_estimator parameter"
      ]
    },
    {
      "cell_type": "code",
      "execution_count": 17,
      "metadata": {
        "collapsed": true,
        "colab": {
          "base_uri": "https://localhost:8080/"
        },
        "id": "4xQWhVpn0cNu",
        "outputId": "630b14cb-b204-4ac4-e145-e37350b2cd65"
      },
      "outputs": [
        {
          "output_type": "stream",
          "name": "stderr",
          "text": [
            "/usr/local/lib/python3.10/dist-packages/sklearn/ensemble/_base.py:166: FutureWarning: `base_estimator` was renamed to `estimator` in version 1.2 and will be removed in 1.4.\n",
            "  warnings.warn(\n",
            "/usr/local/lib/python3.10/dist-packages/sklearn/ensemble/_base.py:166: FutureWarning: `base_estimator` was renamed to `estimator` in version 1.2 and will be removed in 1.4.\n",
            "  warnings.warn(\n",
            "/usr/local/lib/python3.10/dist-packages/sklearn/ensemble/_base.py:166: FutureWarning: `base_estimator` was renamed to `estimator` in version 1.2 and will be removed in 1.4.\n",
            "  warnings.warn(\n",
            "/usr/local/lib/python3.10/dist-packages/sklearn/ensemble/_base.py:166: FutureWarning: `base_estimator` was renamed to `estimator` in version 1.2 and will be removed in 1.4.\n",
            "  warnings.warn(\n",
            "/usr/local/lib/python3.10/dist-packages/sklearn/ensemble/_base.py:166: FutureWarning: `base_estimator` was renamed to `estimator` in version 1.2 and will be removed in 1.4.\n",
            "  warnings.warn(\n",
            "/usr/local/lib/python3.10/dist-packages/sklearn/ensemble/_base.py:166: FutureWarning: `base_estimator` was renamed to `estimator` in version 1.2 and will be removed in 1.4.\n",
            "  warnings.warn(\n",
            "/usr/local/lib/python3.10/dist-packages/sklearn/ensemble/_base.py:166: FutureWarning: `base_estimator` was renamed to `estimator` in version 1.2 and will be removed in 1.4.\n",
            "  warnings.warn(\n",
            "/usr/local/lib/python3.10/dist-packages/sklearn/ensemble/_base.py:166: FutureWarning: `base_estimator` was renamed to `estimator` in version 1.2 and will be removed in 1.4.\n",
            "  warnings.warn(\n",
            "/usr/local/lib/python3.10/dist-packages/sklearn/ensemble/_base.py:166: FutureWarning: `base_estimator` was renamed to `estimator` in version 1.2 and will be removed in 1.4.\n",
            "  warnings.warn(\n",
            "/usr/local/lib/python3.10/dist-packages/sklearn/ensemble/_base.py:166: FutureWarning: `base_estimator` was renamed to `estimator` in version 1.2 and will be removed in 1.4.\n",
            "  warnings.warn(\n",
            "/usr/local/lib/python3.10/dist-packages/sklearn/ensemble/_base.py:166: FutureWarning: `base_estimator` was renamed to `estimator` in version 1.2 and will be removed in 1.4.\n",
            "  warnings.warn(\n",
            "/usr/local/lib/python3.10/dist-packages/sklearn/ensemble/_base.py:166: FutureWarning: `base_estimator` was renamed to `estimator` in version 1.2 and will be removed in 1.4.\n",
            "  warnings.warn(\n",
            "/usr/local/lib/python3.10/dist-packages/sklearn/ensemble/_base.py:166: FutureWarning: `base_estimator` was renamed to `estimator` in version 1.2 and will be removed in 1.4.\n",
            "  warnings.warn(\n",
            "/usr/local/lib/python3.10/dist-packages/sklearn/ensemble/_base.py:166: FutureWarning: `base_estimator` was renamed to `estimator` in version 1.2 and will be removed in 1.4.\n",
            "  warnings.warn(\n",
            "/usr/local/lib/python3.10/dist-packages/sklearn/ensemble/_base.py:166: FutureWarning: `base_estimator` was renamed to `estimator` in version 1.2 and will be removed in 1.4.\n",
            "  warnings.warn(\n",
            "/usr/local/lib/python3.10/dist-packages/sklearn/ensemble/_base.py:166: FutureWarning: `base_estimator` was renamed to `estimator` in version 1.2 and will be removed in 1.4.\n",
            "  warnings.warn(\n",
            "/usr/local/lib/python3.10/dist-packages/sklearn/ensemble/_base.py:166: FutureWarning: `base_estimator` was renamed to `estimator` in version 1.2 and will be removed in 1.4.\n",
            "  warnings.warn(\n",
            "/usr/local/lib/python3.10/dist-packages/sklearn/ensemble/_base.py:166: FutureWarning: `base_estimator` was renamed to `estimator` in version 1.2 and will be removed in 1.4.\n",
            "  warnings.warn(\n",
            "/usr/local/lib/python3.10/dist-packages/sklearn/ensemble/_base.py:166: FutureWarning: `base_estimator` was renamed to `estimator` in version 1.2 and will be removed in 1.4.\n",
            "  warnings.warn(\n",
            "/usr/local/lib/python3.10/dist-packages/sklearn/ensemble/_base.py:166: FutureWarning: `base_estimator` was renamed to `estimator` in version 1.2 and will be removed in 1.4.\n",
            "  warnings.warn(\n",
            "/usr/local/lib/python3.10/dist-packages/sklearn/ensemble/_base.py:166: FutureWarning: `base_estimator` was renamed to `estimator` in version 1.2 and will be removed in 1.4.\n",
            "  warnings.warn(\n",
            "/usr/local/lib/python3.10/dist-packages/sklearn/ensemble/_base.py:166: FutureWarning: `base_estimator` was renamed to `estimator` in version 1.2 and will be removed in 1.4.\n",
            "  warnings.warn(\n",
            "/usr/local/lib/python3.10/dist-packages/sklearn/ensemble/_base.py:166: FutureWarning: `base_estimator` was renamed to `estimator` in version 1.2 and will be removed in 1.4.\n",
            "  warnings.warn(\n",
            "/usr/local/lib/python3.10/dist-packages/sklearn/ensemble/_base.py:166: FutureWarning: `base_estimator` was renamed to `estimator` in version 1.2 and will be removed in 1.4.\n",
            "  warnings.warn(\n",
            "/usr/local/lib/python3.10/dist-packages/sklearn/ensemble/_base.py:166: FutureWarning: `base_estimator` was renamed to `estimator` in version 1.2 and will be removed in 1.4.\n",
            "  warnings.warn(\n",
            "/usr/local/lib/python3.10/dist-packages/sklearn/ensemble/_base.py:166: FutureWarning: `base_estimator` was renamed to `estimator` in version 1.2 and will be removed in 1.4.\n",
            "  warnings.warn(\n",
            "/usr/local/lib/python3.10/dist-packages/sklearn/ensemble/_base.py:166: FutureWarning: `base_estimator` was renamed to `estimator` in version 1.2 and will be removed in 1.4.\n",
            "  warnings.warn(\n",
            "/usr/local/lib/python3.10/dist-packages/sklearn/ensemble/_base.py:166: FutureWarning: `base_estimator` was renamed to `estimator` in version 1.2 and will be removed in 1.4.\n",
            "  warnings.warn(\n",
            "/usr/local/lib/python3.10/dist-packages/sklearn/ensemble/_base.py:166: FutureWarning: `base_estimator` was renamed to `estimator` in version 1.2 and will be removed in 1.4.\n",
            "  warnings.warn(\n",
            "/usr/local/lib/python3.10/dist-packages/sklearn/ensemble/_base.py:166: FutureWarning: `base_estimator` was renamed to `estimator` in version 1.2 and will be removed in 1.4.\n",
            "  warnings.warn(\n",
            "/usr/local/lib/python3.10/dist-packages/sklearn/ensemble/_base.py:166: FutureWarning: `base_estimator` was renamed to `estimator` in version 1.2 and will be removed in 1.4.\n",
            "  warnings.warn(\n",
            "/usr/local/lib/python3.10/dist-packages/sklearn/ensemble/_base.py:166: FutureWarning: `base_estimator` was renamed to `estimator` in version 1.2 and will be removed in 1.4.\n",
            "  warnings.warn(\n",
            "/usr/local/lib/python3.10/dist-packages/sklearn/ensemble/_base.py:166: FutureWarning: `base_estimator` was renamed to `estimator` in version 1.2 and will be removed in 1.4.\n",
            "  warnings.warn(\n",
            "/usr/local/lib/python3.10/dist-packages/sklearn/ensemble/_base.py:166: FutureWarning: `base_estimator` was renamed to `estimator` in version 1.2 and will be removed in 1.4.\n",
            "  warnings.warn(\n",
            "/usr/local/lib/python3.10/dist-packages/sklearn/ensemble/_base.py:166: FutureWarning: `base_estimator` was renamed to `estimator` in version 1.2 and will be removed in 1.4.\n",
            "  warnings.warn(\n",
            "/usr/local/lib/python3.10/dist-packages/sklearn/ensemble/_base.py:166: FutureWarning: `base_estimator` was renamed to `estimator` in version 1.2 and will be removed in 1.4.\n",
            "  warnings.warn(\n",
            "/usr/local/lib/python3.10/dist-packages/sklearn/ensemble/_base.py:166: FutureWarning: `base_estimator` was renamed to `estimator` in version 1.2 and will be removed in 1.4.\n",
            "  warnings.warn(\n",
            "/usr/local/lib/python3.10/dist-packages/sklearn/ensemble/_base.py:166: FutureWarning: `base_estimator` was renamed to `estimator` in version 1.2 and will be removed in 1.4.\n",
            "  warnings.warn(\n",
            "/usr/local/lib/python3.10/dist-packages/sklearn/ensemble/_base.py:166: FutureWarning: `base_estimator` was renamed to `estimator` in version 1.2 and will be removed in 1.4.\n",
            "  warnings.warn(\n",
            "/usr/local/lib/python3.10/dist-packages/sklearn/ensemble/_base.py:166: FutureWarning: `base_estimator` was renamed to `estimator` in version 1.2 and will be removed in 1.4.\n",
            "  warnings.warn(\n",
            "/usr/local/lib/python3.10/dist-packages/sklearn/ensemble/_base.py:166: FutureWarning: `base_estimator` was renamed to `estimator` in version 1.2 and will be removed in 1.4.\n",
            "  warnings.warn(\n",
            "/usr/local/lib/python3.10/dist-packages/sklearn/ensemble/_base.py:166: FutureWarning: `base_estimator` was renamed to `estimator` in version 1.2 and will be removed in 1.4.\n",
            "  warnings.warn(\n",
            "/usr/local/lib/python3.10/dist-packages/sklearn/ensemble/_base.py:166: FutureWarning: `base_estimator` was renamed to `estimator` in version 1.2 and will be removed in 1.4.\n",
            "  warnings.warn(\n",
            "/usr/local/lib/python3.10/dist-packages/sklearn/ensemble/_base.py:166: FutureWarning: `base_estimator` was renamed to `estimator` in version 1.2 and will be removed in 1.4.\n",
            "  warnings.warn(\n",
            "/usr/local/lib/python3.10/dist-packages/sklearn/ensemble/_base.py:166: FutureWarning: `base_estimator` was renamed to `estimator` in version 1.2 and will be removed in 1.4.\n",
            "  warnings.warn(\n",
            "/usr/local/lib/python3.10/dist-packages/sklearn/ensemble/_base.py:166: FutureWarning: `base_estimator` was renamed to `estimator` in version 1.2 and will be removed in 1.4.\n",
            "  warnings.warn(\n"
          ]
        },
        {
          "output_type": "stream",
          "name": "stdout",
          "text": [
            "Best Parameters: {'learning_rate': 1.0, 'n_estimators': 200}\n",
            "Best Score: 0.5548485903237034\n"
          ]
        }
      ],
      "source": [
        "# choose parameters needed for adaboost grid search i.e. learning_rate and n_estimators parameters\n",
        "parameters = {'learning_rate':[0.01, 0.1, 1.0],'n_estimators':[50,100,200]}\n",
        "\n",
        "# create adaboost model with base_estimator as LogisticRegression\n",
        "base_estimator = LogisticRegression(solver='liblinear')\n",
        "ada_boost_classifier = AdaBoostClassifier(base_estimator=base_estimator)\n",
        "# create the gridsearch\n",
        "grid_search = GridSearchCV(ada_boost_classifier, parameters, scoring='accuracy', cv=5)\n",
        "# fit gridsearch\n",
        "grid_search.fit(x_train_tfidf, y_train)\n",
        "# report the best parameter\n",
        "best_params = grid_search.best_params_\n",
        "print(\"Best Parameters:\", best_params)\n",
        "# report the best score\n",
        "best_score = grid_search.best_score_\n",
        "print(\"Best Score:\", best_score)"
      ]
    },
    {
      "cell_type": "markdown",
      "metadata": {
        "id": "D6GwWo7A0cNv"
      },
      "source": [
        "Report the validation accuracy and F-measure of your selected model.\n"
      ]
    },
    {
      "cell_type": "code",
      "execution_count": 21,
      "metadata": {
        "collapsed": true,
        "colab": {
          "base_uri": "https://localhost:8080/"
        },
        "id": "RR-P9wCM0cNv",
        "outputId": "0c56dc11-5761-4b48-bddf-b8e94393c649"
      },
      "outputs": [
        {
          "output_type": "stream",
          "name": "stderr",
          "text": [
            "/usr/local/lib/python3.10/dist-packages/sklearn/ensemble/_base.py:166: FutureWarning: `base_estimator` was renamed to `estimator` in version 1.2 and will be removed in 1.4.\n",
            "  warnings.warn(\n"
          ]
        },
        {
          "output_type": "stream",
          "name": "stdout",
          "text": [
            "The Best Model Accuracy is: 0.6084905660377359\n",
            "The Best Model F-Measure is: 0.5306129688894557\n"
          ]
        }
      ],
      "source": [
        "# create the best adaboost model with the best reported parameters\n",
        "best_adaboost= grid_search.best_estimator_\n",
        "\n",
        "# fit the best model\n",
        "best_adaboost.fit(x_train_tfidf, y_train)\n",
        "\n",
        "# report the best model accuracy and f-measure\n",
        "y_pred = best_adaboost.predict(x_val_tfidf)\n",
        "\n",
        "accuracy = accuracy_score(y_val, y_pred)\n",
        "\n",
        "f1_measure = f1_score(y_val, y_pred, average='weighted')\n",
        "\n",
        "print(\"The Best Model Accuracy is:\", accuracy)\n",
        "print(\"The Best Model F-Measure is:\", f1_measure)\n"
      ]
    },
    {
      "cell_type": "markdown",
      "metadata": {
        "id": "XkcV8oad0cNv"
      },
      "source": [
        "## Exercise 2: Recommender System"
      ]
    },
    {
      "cell_type": "code",
      "source": [
        "# Replace the file path with the correct one if needed\n",
        "!unzip '/content/ml-100k (1).zip'\n"
      ],
      "metadata": {
        "colab": {
          "base_uri": "https://localhost:8080/"
        },
        "id": "gat5tFjXRTtA",
        "outputId": "f66aa0de-08c9-4ccc-f0f9-5dcb48cd57a0"
      },
      "execution_count": 2,
      "outputs": [
        {
          "output_type": "stream",
          "name": "stdout",
          "text": [
            "Archive:  /content/ml-100k (1).zip\n",
            "   creating: ml-100k/\n",
            "  inflating: __MACOSX/._ml-100k      \n",
            "  inflating: ml-100k/u.item          \n",
            "  inflating: __MACOSX/ml-100k/._u.item  \n",
            "  inflating: ml-100k/u3.test         \n",
            "  inflating: __MACOSX/ml-100k/._u3.test  \n",
            "  inflating: ml-100k/u1.base         \n",
            "  inflating: __MACOSX/ml-100k/._u1.base  \n",
            "  inflating: ml-100k/u.info          \n",
            "  inflating: __MACOSX/ml-100k/._u.info  \n",
            "  inflating: ml-100k/u2.test         \n",
            "  inflating: __MACOSX/ml-100k/._u2.test  \n",
            "  inflating: ml-100k/u5.test         \n",
            "  inflating: __MACOSX/ml-100k/._u5.test  \n",
            "  inflating: ml-100k/u.genre         \n",
            "  inflating: __MACOSX/ml-100k/._u.genre  \n",
            "  inflating: ml-100k/ub.test         \n",
            "  inflating: __MACOSX/ml-100k/._ub.test  \n",
            "  inflating: ml-100k/ua.base         \n",
            "  inflating: __MACOSX/ml-100k/._ua.base  \n",
            "  inflating: ml-100k/u.data          \n",
            "  inflating: __MACOSX/ml-100k/._u.data  \n",
            "  inflating: ml-100k/README          \n",
            "  inflating: __MACOSX/ml-100k/._README  \n",
            "  inflating: ml-100k/u4.test         \n",
            "  inflating: __MACOSX/ml-100k/._u4.test  \n",
            "  inflating: ml-100k/u5.base         \n",
            "  inflating: __MACOSX/ml-100k/._u5.base  \n",
            "  inflating: ml-100k/ub.base         \n",
            "  inflating: __MACOSX/ml-100k/._ub.base  \n",
            "  inflating: ml-100k/ua.test         \n",
            "  inflating: __MACOSX/ml-100k/._ua.test  \n",
            "  inflating: ml-100k/u4.base         \n",
            "  inflating: __MACOSX/ml-100k/._u4.base  \n",
            "  inflating: ml-100k/u.user          \n",
            "  inflating: __MACOSX/ml-100k/._u.user  \n",
            "  inflating: ml-100k/allbut.pl       \n",
            "  inflating: __MACOSX/ml-100k/._allbut.pl  \n",
            "  inflating: ml-100k/u3.base         \n",
            "  inflating: __MACOSX/ml-100k/._u3.base  \n",
            "  inflating: ml-100k/u1.test         \n",
            "  inflating: __MACOSX/ml-100k/._u1.test  \n",
            "  inflating: ml-100k/mku.sh          \n",
            "  inflating: __MACOSX/ml-100k/._mku.sh  \n",
            "  inflating: ml-100k/u2.base         \n",
            "  inflating: __MACOSX/ml-100k/._u2.base  \n",
            "  inflating: ml-100k/u.occupation    \n",
            "  inflating: __MACOSX/ml-100k/._u.occupation  \n"
          ]
        }
      ]
    },
    {
      "cell_type": "code",
      "execution_count": 3,
      "metadata": {
        "collapsed": true,
        "id": "SsF9gO2o0cNw"
      },
      "outputs": [],
      "source": [
        "import pandas as pd\n",
        "import numpy as np\n",
        "import matplotlib\n",
        "import matplotlib.pyplot as plt\n",
        "\n",
        "# Reading users file\n",
        "u_cols = ['user_id', 'age', 'sex', 'occupation', 'zip_code']\n",
        "users = pd.read_csv('ml-100k/u.user', sep='|', names=u_cols,\n",
        "                    encoding='latin-1')\n",
        "# Reading data file\n",
        "r_cols = ['user_id', 'movie_id', 'rating', 'unix_timestamp']\n",
        "ratings = pd.read_csv('ml-100k/u.data', sep='\\t', names=r_cols,\n",
        "                      encoding='latin-1')\n",
        "# Reading items file\n",
        "m_cols = ['movie_id', 'title', 'release_date', 'video_release_date', 'imdb_url']\n",
        "movies = pd.read_csv('ml-100k/u.item', sep='|', names=m_cols, usecols=range(5),\n",
        "                     encoding='latin-1')\n",
        "# merging data as one dataframe\n",
        "movie_ratings = pd.merge(movies, ratings)\n",
        "lens = pd.merge(movie_ratings, users)\n",
        "\n",
        "movie_idx = {}\n",
        "idx_movie = {}\n",
        "for i in movies.values:\n",
        "    movie_idx[i[1]] = i[0]\n",
        "    idx_movie[i[0]] = i[1]"
      ]
    },
    {
      "cell_type": "markdown",
      "metadata": {
        "id": "u9FoldDK0cNw"
      },
      "source": [
        "In this exercise, we provide you with an implementation of a collaborative-filtering recommender system. Your task is to train the recommender system on the MovieLens dataset with 100k ratings: https://grouplens.org/datasets/movielens/100k/. When you unzip the zip assignment file, the dataset will be in the same directory of your assignment.\n",
        "\n",
        "Once done training, 1) identify your top-3 favorite movies from the dataset and for each movie, retrieve its top-3 closest movies, and 2) pick three random users from the dataset and get the top-5 recommended movies to them by the the recommender system. Note that the maxtrix factorization module in the code below is just trying to factorize the rating matrix into submatrices, one which is for the user weights and the other which is for the movies' features (as discussed in class)."
      ]
    },
    {
      "cell_type": "code",
      "execution_count": 4,
      "metadata": {
        "collapsed": true,
        "colab": {
          "base_uri": "https://localhost:8080/",
          "height": 686
        },
        "id": "BCrbdwBt0cNx",
        "outputId": "b6566705-b893-4b93-9e1b-55490ff26e03"
      },
      "outputs": [
        {
          "output_type": "execute_result",
          "data": {
            "text/plain": [
              "       movie_id                       title release_date  video_release_date  \\\n",
              "0             1            Toy Story (1995)  01-Jan-1995                 NaN   \n",
              "1             4           Get Shorty (1995)  01-Jan-1995                 NaN   \n",
              "2             5              Copycat (1995)  01-Jan-1995                 NaN   \n",
              "3             7       Twelve Monkeys (1995)  01-Jan-1995                 NaN   \n",
              "4             8                 Babe (1995)  01-Jan-1995                 NaN   \n",
              "...         ...                         ...          ...                 ...   \n",
              "99995       748           Saint, The (1997)  14-Mar-1997                 NaN   \n",
              "99996       751  Tomorrow Never Dies (1997)  01-Jan-1997                 NaN   \n",
              "99997       879      Peacemaker, The (1997)  01-Jan-1997                 NaN   \n",
              "99998       894         Home Alone 3 (1997)  01-Jan-1997                 NaN   \n",
              "99999       901            Mr. Magoo (1997)  25-Dec-1997                 NaN   \n",
              "\n",
              "                                                imdb_url  user_id  rating  \\\n",
              "0      http://us.imdb.com/M/title-exact?Toy%20Story%2...      308       4   \n",
              "1      http://us.imdb.com/M/title-exact?Get%20Shorty%...      308       5   \n",
              "2      http://us.imdb.com/M/title-exact?Copycat%20(1995)      308       4   \n",
              "3      http://us.imdb.com/M/title-exact?Twelve%20Monk...      308       4   \n",
              "4         http://us.imdb.com/M/title-exact?Babe%20(1995)      308       5   \n",
              "...                                                  ...      ...     ...   \n",
              "99995  http://us.imdb.com/M/title-exact?Saint%2C%20Th...      729       4   \n",
              "99996  http://us.imdb.com/M/title-exact?imdb-title-12...      729       3   \n",
              "99997  http://us.imdb.com/M/title-exact?Peacemaker%2C...      729       3   \n",
              "99998  http://us.imdb.com/M/title-exact?imdb-title-11...      729       1   \n",
              "99999  http://us.imdb.com/M/title-exact?imdb-title-11...      729       1   \n",
              "\n",
              "       unix_timestamp  age sex occupation zip_code  \n",
              "0           887736532   60   M    retired    95076  \n",
              "1           887737890   60   M    retired    95076  \n",
              "2           887739608   60   M    retired    95076  \n",
              "3           887738847   60   M    retired    95076  \n",
              "4           887736696   60   M    retired    95076  \n",
              "...               ...  ...  ..        ...      ...  \n",
              "99995       893286638   19   M    student    56567  \n",
              "99996       893286338   19   M    student    56567  \n",
              "99997       893286299   19   M    student    56567  \n",
              "99998       893286511   19   M    student    56567  \n",
              "99999       893286491   19   M    student    56567  \n",
              "\n",
              "[100000 rows x 12 columns]"
            ],
            "text/html": [
              "\n",
              "  <div id=\"df-20f1ac1b-a49c-40e4-a47f-c7cd6f0e3924\" class=\"colab-df-container\">\n",
              "    <div>\n",
              "<style scoped>\n",
              "    .dataframe tbody tr th:only-of-type {\n",
              "        vertical-align: middle;\n",
              "    }\n",
              "\n",
              "    .dataframe tbody tr th {\n",
              "        vertical-align: top;\n",
              "    }\n",
              "\n",
              "    .dataframe thead th {\n",
              "        text-align: right;\n",
              "    }\n",
              "</style>\n",
              "<table border=\"1\" class=\"dataframe\">\n",
              "  <thead>\n",
              "    <tr style=\"text-align: right;\">\n",
              "      <th></th>\n",
              "      <th>movie_id</th>\n",
              "      <th>title</th>\n",
              "      <th>release_date</th>\n",
              "      <th>video_release_date</th>\n",
              "      <th>imdb_url</th>\n",
              "      <th>user_id</th>\n",
              "      <th>rating</th>\n",
              "      <th>unix_timestamp</th>\n",
              "      <th>age</th>\n",
              "      <th>sex</th>\n",
              "      <th>occupation</th>\n",
              "      <th>zip_code</th>\n",
              "    </tr>\n",
              "  </thead>\n",
              "  <tbody>\n",
              "    <tr>\n",
              "      <th>0</th>\n",
              "      <td>1</td>\n",
              "      <td>Toy Story (1995)</td>\n",
              "      <td>01-Jan-1995</td>\n",
              "      <td>NaN</td>\n",
              "      <td>http://us.imdb.com/M/title-exact?Toy%20Story%2...</td>\n",
              "      <td>308</td>\n",
              "      <td>4</td>\n",
              "      <td>887736532</td>\n",
              "      <td>60</td>\n",
              "      <td>M</td>\n",
              "      <td>retired</td>\n",
              "      <td>95076</td>\n",
              "    </tr>\n",
              "    <tr>\n",
              "      <th>1</th>\n",
              "      <td>4</td>\n",
              "      <td>Get Shorty (1995)</td>\n",
              "      <td>01-Jan-1995</td>\n",
              "      <td>NaN</td>\n",
              "      <td>http://us.imdb.com/M/title-exact?Get%20Shorty%...</td>\n",
              "      <td>308</td>\n",
              "      <td>5</td>\n",
              "      <td>887737890</td>\n",
              "      <td>60</td>\n",
              "      <td>M</td>\n",
              "      <td>retired</td>\n",
              "      <td>95076</td>\n",
              "    </tr>\n",
              "    <tr>\n",
              "      <th>2</th>\n",
              "      <td>5</td>\n",
              "      <td>Copycat (1995)</td>\n",
              "      <td>01-Jan-1995</td>\n",
              "      <td>NaN</td>\n",
              "      <td>http://us.imdb.com/M/title-exact?Copycat%20(1995)</td>\n",
              "      <td>308</td>\n",
              "      <td>4</td>\n",
              "      <td>887739608</td>\n",
              "      <td>60</td>\n",
              "      <td>M</td>\n",
              "      <td>retired</td>\n",
              "      <td>95076</td>\n",
              "    </tr>\n",
              "    <tr>\n",
              "      <th>3</th>\n",
              "      <td>7</td>\n",
              "      <td>Twelve Monkeys (1995)</td>\n",
              "      <td>01-Jan-1995</td>\n",
              "      <td>NaN</td>\n",
              "      <td>http://us.imdb.com/M/title-exact?Twelve%20Monk...</td>\n",
              "      <td>308</td>\n",
              "      <td>4</td>\n",
              "      <td>887738847</td>\n",
              "      <td>60</td>\n",
              "      <td>M</td>\n",
              "      <td>retired</td>\n",
              "      <td>95076</td>\n",
              "    </tr>\n",
              "    <tr>\n",
              "      <th>4</th>\n",
              "      <td>8</td>\n",
              "      <td>Babe (1995)</td>\n",
              "      <td>01-Jan-1995</td>\n",
              "      <td>NaN</td>\n",
              "      <td>http://us.imdb.com/M/title-exact?Babe%20(1995)</td>\n",
              "      <td>308</td>\n",
              "      <td>5</td>\n",
              "      <td>887736696</td>\n",
              "      <td>60</td>\n",
              "      <td>M</td>\n",
              "      <td>retired</td>\n",
              "      <td>95076</td>\n",
              "    </tr>\n",
              "    <tr>\n",
              "      <th>...</th>\n",
              "      <td>...</td>\n",
              "      <td>...</td>\n",
              "      <td>...</td>\n",
              "      <td>...</td>\n",
              "      <td>...</td>\n",
              "      <td>...</td>\n",
              "      <td>...</td>\n",
              "      <td>...</td>\n",
              "      <td>...</td>\n",
              "      <td>...</td>\n",
              "      <td>...</td>\n",
              "      <td>...</td>\n",
              "    </tr>\n",
              "    <tr>\n",
              "      <th>99995</th>\n",
              "      <td>748</td>\n",
              "      <td>Saint, The (1997)</td>\n",
              "      <td>14-Mar-1997</td>\n",
              "      <td>NaN</td>\n",
              "      <td>http://us.imdb.com/M/title-exact?Saint%2C%20Th...</td>\n",
              "      <td>729</td>\n",
              "      <td>4</td>\n",
              "      <td>893286638</td>\n",
              "      <td>19</td>\n",
              "      <td>M</td>\n",
              "      <td>student</td>\n",
              "      <td>56567</td>\n",
              "    </tr>\n",
              "    <tr>\n",
              "      <th>99996</th>\n",
              "      <td>751</td>\n",
              "      <td>Tomorrow Never Dies (1997)</td>\n",
              "      <td>01-Jan-1997</td>\n",
              "      <td>NaN</td>\n",
              "      <td>http://us.imdb.com/M/title-exact?imdb-title-12...</td>\n",
              "      <td>729</td>\n",
              "      <td>3</td>\n",
              "      <td>893286338</td>\n",
              "      <td>19</td>\n",
              "      <td>M</td>\n",
              "      <td>student</td>\n",
              "      <td>56567</td>\n",
              "    </tr>\n",
              "    <tr>\n",
              "      <th>99997</th>\n",
              "      <td>879</td>\n",
              "      <td>Peacemaker, The (1997)</td>\n",
              "      <td>01-Jan-1997</td>\n",
              "      <td>NaN</td>\n",
              "      <td>http://us.imdb.com/M/title-exact?Peacemaker%2C...</td>\n",
              "      <td>729</td>\n",
              "      <td>3</td>\n",
              "      <td>893286299</td>\n",
              "      <td>19</td>\n",
              "      <td>M</td>\n",
              "      <td>student</td>\n",
              "      <td>56567</td>\n",
              "    </tr>\n",
              "    <tr>\n",
              "      <th>99998</th>\n",
              "      <td>894</td>\n",
              "      <td>Home Alone 3 (1997)</td>\n",
              "      <td>01-Jan-1997</td>\n",
              "      <td>NaN</td>\n",
              "      <td>http://us.imdb.com/M/title-exact?imdb-title-11...</td>\n",
              "      <td>729</td>\n",
              "      <td>1</td>\n",
              "      <td>893286511</td>\n",
              "      <td>19</td>\n",
              "      <td>M</td>\n",
              "      <td>student</td>\n",
              "      <td>56567</td>\n",
              "    </tr>\n",
              "    <tr>\n",
              "      <th>99999</th>\n",
              "      <td>901</td>\n",
              "      <td>Mr. Magoo (1997)</td>\n",
              "      <td>25-Dec-1997</td>\n",
              "      <td>NaN</td>\n",
              "      <td>http://us.imdb.com/M/title-exact?imdb-title-11...</td>\n",
              "      <td>729</td>\n",
              "      <td>1</td>\n",
              "      <td>893286491</td>\n",
              "      <td>19</td>\n",
              "      <td>M</td>\n",
              "      <td>student</td>\n",
              "      <td>56567</td>\n",
              "    </tr>\n",
              "  </tbody>\n",
              "</table>\n",
              "<p>100000 rows × 12 columns</p>\n",
              "</div>\n",
              "    <div class=\"colab-df-buttons\">\n",
              "\n",
              "  <div class=\"colab-df-container\">\n",
              "    <button class=\"colab-df-convert\" onclick=\"convertToInteractive('df-20f1ac1b-a49c-40e4-a47f-c7cd6f0e3924')\"\n",
              "            title=\"Convert this dataframe to an interactive table.\"\n",
              "            style=\"display:none;\">\n",
              "\n",
              "  <svg xmlns=\"http://www.w3.org/2000/svg\" height=\"24px\" viewBox=\"0 -960 960 960\">\n",
              "    <path d=\"M120-120v-720h720v720H120Zm60-500h600v-160H180v160Zm220 220h160v-160H400v160Zm0 220h160v-160H400v160ZM180-400h160v-160H180v160Zm440 0h160v-160H620v160ZM180-180h160v-160H180v160Zm440 0h160v-160H620v160Z\"/>\n",
              "  </svg>\n",
              "    </button>\n",
              "\n",
              "  <style>\n",
              "    .colab-df-container {\n",
              "      display:flex;\n",
              "      gap: 12px;\n",
              "    }\n",
              "\n",
              "    .colab-df-convert {\n",
              "      background-color: #E8F0FE;\n",
              "      border: none;\n",
              "      border-radius: 50%;\n",
              "      cursor: pointer;\n",
              "      display: none;\n",
              "      fill: #1967D2;\n",
              "      height: 32px;\n",
              "      padding: 0 0 0 0;\n",
              "      width: 32px;\n",
              "    }\n",
              "\n",
              "    .colab-df-convert:hover {\n",
              "      background-color: #E2EBFA;\n",
              "      box-shadow: 0px 1px 2px rgba(60, 64, 67, 0.3), 0px 1px 3px 1px rgba(60, 64, 67, 0.15);\n",
              "      fill: #174EA6;\n",
              "    }\n",
              "\n",
              "    .colab-df-buttons div {\n",
              "      margin-bottom: 4px;\n",
              "    }\n",
              "\n",
              "    [theme=dark] .colab-df-convert {\n",
              "      background-color: #3B4455;\n",
              "      fill: #D2E3FC;\n",
              "    }\n",
              "\n",
              "    [theme=dark] .colab-df-convert:hover {\n",
              "      background-color: #434B5C;\n",
              "      box-shadow: 0px 1px 3px 1px rgba(0, 0, 0, 0.15);\n",
              "      filter: drop-shadow(0px 1px 2px rgba(0, 0, 0, 0.3));\n",
              "      fill: #FFFFFF;\n",
              "    }\n",
              "  </style>\n",
              "\n",
              "    <script>\n",
              "      const buttonEl =\n",
              "        document.querySelector('#df-20f1ac1b-a49c-40e4-a47f-c7cd6f0e3924 button.colab-df-convert');\n",
              "      buttonEl.style.display =\n",
              "        google.colab.kernel.accessAllowed ? 'block' : 'none';\n",
              "\n",
              "      async function convertToInteractive(key) {\n",
              "        const element = document.querySelector('#df-20f1ac1b-a49c-40e4-a47f-c7cd6f0e3924');\n",
              "        const dataTable =\n",
              "          await google.colab.kernel.invokeFunction('convertToInteractive',\n",
              "                                                    [key], {});\n",
              "        if (!dataTable) return;\n",
              "\n",
              "        const docLinkHtml = 'Like what you see? Visit the ' +\n",
              "          '<a target=\"_blank\" href=https://colab.research.google.com/notebooks/data_table.ipynb>data table notebook</a>'\n",
              "          + ' to learn more about interactive tables.';\n",
              "        element.innerHTML = '';\n",
              "        dataTable['output_type'] = 'display_data';\n",
              "        await google.colab.output.renderOutput(dataTable, element);\n",
              "        const docLink = document.createElement('div');\n",
              "        docLink.innerHTML = docLinkHtml;\n",
              "        element.appendChild(docLink);\n",
              "      }\n",
              "    </script>\n",
              "  </div>\n",
              "\n",
              "\n",
              "<div id=\"df-3190001b-ae97-462c-ab16-045157b5d1a4\">\n",
              "  <button class=\"colab-df-quickchart\" onclick=\"quickchart('df-3190001b-ae97-462c-ab16-045157b5d1a4')\"\n",
              "            title=\"Suggest charts.\"\n",
              "            style=\"display:none;\">\n",
              "\n",
              "<svg xmlns=\"http://www.w3.org/2000/svg\" height=\"24px\"viewBox=\"0 0 24 24\"\n",
              "     width=\"24px\">\n",
              "    <g>\n",
              "        <path d=\"M19 3H5c-1.1 0-2 .9-2 2v14c0 1.1.9 2 2 2h14c1.1 0 2-.9 2-2V5c0-1.1-.9-2-2-2zM9 17H7v-7h2v7zm4 0h-2V7h2v10zm4 0h-2v-4h2v4z\"/>\n",
              "    </g>\n",
              "</svg>\n",
              "  </button>\n",
              "\n",
              "<style>\n",
              "  .colab-df-quickchart {\n",
              "      --bg-color: #E8F0FE;\n",
              "      --fill-color: #1967D2;\n",
              "      --hover-bg-color: #E2EBFA;\n",
              "      --hover-fill-color: #174EA6;\n",
              "      --disabled-fill-color: #AAA;\n",
              "      --disabled-bg-color: #DDD;\n",
              "  }\n",
              "\n",
              "  [theme=dark] .colab-df-quickchart {\n",
              "      --bg-color: #3B4455;\n",
              "      --fill-color: #D2E3FC;\n",
              "      --hover-bg-color: #434B5C;\n",
              "      --hover-fill-color: #FFFFFF;\n",
              "      --disabled-bg-color: #3B4455;\n",
              "      --disabled-fill-color: #666;\n",
              "  }\n",
              "\n",
              "  .colab-df-quickchart {\n",
              "    background-color: var(--bg-color);\n",
              "    border: none;\n",
              "    border-radius: 50%;\n",
              "    cursor: pointer;\n",
              "    display: none;\n",
              "    fill: var(--fill-color);\n",
              "    height: 32px;\n",
              "    padding: 0;\n",
              "    width: 32px;\n",
              "  }\n",
              "\n",
              "  .colab-df-quickchart:hover {\n",
              "    background-color: var(--hover-bg-color);\n",
              "    box-shadow: 0 1px 2px rgba(60, 64, 67, 0.3), 0 1px 3px 1px rgba(60, 64, 67, 0.15);\n",
              "    fill: var(--button-hover-fill-color);\n",
              "  }\n",
              "\n",
              "  .colab-df-quickchart-complete:disabled,\n",
              "  .colab-df-quickchart-complete:disabled:hover {\n",
              "    background-color: var(--disabled-bg-color);\n",
              "    fill: var(--disabled-fill-color);\n",
              "    box-shadow: none;\n",
              "  }\n",
              "\n",
              "  .colab-df-spinner {\n",
              "    border: 2px solid var(--fill-color);\n",
              "    border-color: transparent;\n",
              "    border-bottom-color: var(--fill-color);\n",
              "    animation:\n",
              "      spin 1s steps(1) infinite;\n",
              "  }\n",
              "\n",
              "  @keyframes spin {\n",
              "    0% {\n",
              "      border-color: transparent;\n",
              "      border-bottom-color: var(--fill-color);\n",
              "      border-left-color: var(--fill-color);\n",
              "    }\n",
              "    20% {\n",
              "      border-color: transparent;\n",
              "      border-left-color: var(--fill-color);\n",
              "      border-top-color: var(--fill-color);\n",
              "    }\n",
              "    30% {\n",
              "      border-color: transparent;\n",
              "      border-left-color: var(--fill-color);\n",
              "      border-top-color: var(--fill-color);\n",
              "      border-right-color: var(--fill-color);\n",
              "    }\n",
              "    40% {\n",
              "      border-color: transparent;\n",
              "      border-right-color: var(--fill-color);\n",
              "      border-top-color: var(--fill-color);\n",
              "    }\n",
              "    60% {\n",
              "      border-color: transparent;\n",
              "      border-right-color: var(--fill-color);\n",
              "    }\n",
              "    80% {\n",
              "      border-color: transparent;\n",
              "      border-right-color: var(--fill-color);\n",
              "      border-bottom-color: var(--fill-color);\n",
              "    }\n",
              "    90% {\n",
              "      border-color: transparent;\n",
              "      border-bottom-color: var(--fill-color);\n",
              "    }\n",
              "  }\n",
              "</style>\n",
              "\n",
              "  <script>\n",
              "    async function quickchart(key) {\n",
              "      const quickchartButtonEl =\n",
              "        document.querySelector('#' + key + ' button');\n",
              "      quickchartButtonEl.disabled = true;  // To prevent multiple clicks.\n",
              "      quickchartButtonEl.classList.add('colab-df-spinner');\n",
              "      try {\n",
              "        const charts = await google.colab.kernel.invokeFunction(\n",
              "            'suggestCharts', [key], {});\n",
              "      } catch (error) {\n",
              "        console.error('Error during call to suggestCharts:', error);\n",
              "      }\n",
              "      quickchartButtonEl.classList.remove('colab-df-spinner');\n",
              "      quickchartButtonEl.classList.add('colab-df-quickchart-complete');\n",
              "    }\n",
              "    (() => {\n",
              "      let quickchartButtonEl =\n",
              "        document.querySelector('#df-3190001b-ae97-462c-ab16-045157b5d1a4 button');\n",
              "      quickchartButtonEl.style.display =\n",
              "        google.colab.kernel.accessAllowed ? 'block' : 'none';\n",
              "    })();\n",
              "  </script>\n",
              "</div>\n",
              "    </div>\n",
              "  </div>\n"
            ]
          },
          "metadata": {},
          "execution_count": 4
        }
      ],
      "source": [
        "lens"
      ]
    },
    {
      "cell_type": "code",
      "execution_count": 6,
      "metadata": {
        "collapsed": true,
        "id": "ze5b-oiE0cNx"
      },
      "outputs": [],
      "source": [
        "# unique users ids data\n",
        "user_map = pd.Series(\n",
        "    index=np.unique(lens['user_id']),\n",
        "    data=np.arange(lens['user_id'].nunique()),\n",
        "    name='user_map')\n",
        "\n",
        "# unique movies ids data\n",
        "movie_map = pd.Series(\n",
        "    index=np.unique(lens['movie_id']),\n",
        "    data=np.arange(lens['movie_id'].nunique()),\n",
        "    name='movie_map')\n",
        "# mapping unique users ids to the lens data\n",
        "user_inds = lens['user_id'].map(user_map)\n",
        "# mapping unique movies ids to the lens data\n",
        "movie_inds = lens['movie_id'].map(movie_map)\n",
        "\n",
        "# creating a pivot table of user_id, movie_id, and rating\n",
        "rating_matrix = (\n",
        "        pd.pivot_table(\n",
        "            data=lens,\n",
        "            values='rating',\n",
        "            index=user_inds,\n",
        "            columns=movie_inds,\n",
        "        ).fillna(0).values\n",
        ")\n",
        "rating_matrix\n",
        "rating_matrix = rating_matrix.astype(np.float32)\n",
        "\n"
      ]
    },
    {
      "cell_type": "code",
      "execution_count": 7,
      "metadata": {
        "collapsed": true,
        "id": "8lzSnm8K0cNy"
      },
      "outputs": [],
      "source": [
        "# MatrixFactorization class\n",
        "class MatrixFactorization():\n",
        "    # constructor\n",
        "    def __init__(self, rating_matrix, rating_matrix_val, k=5, lmbda=0.01, max_epochs=50, lr=0.1):\n",
        "        '''\n",
        "        rating_matrix: the matrix of rating (row: user, col: movie)\n",
        "        k : int, default=2\n",
        "            Number of latent features\n",
        "        lmbda : float, default=0.01\n",
        "            Regularization parameter\n",
        "        max_epochs : int, default=15\n",
        "            Max number of iterations to run\n",
        "        lr: float, default:0.1\n",
        "            Learning rate\n",
        "        '''\n",
        "        self.rating_matrix = rating_matrix\n",
        "        self.rating_matrix_val = rating_matrix_val\n",
        "        self.k = k\n",
        "        self.lmbda = lmbda\n",
        "        self.max_epochs = max_epochs\n",
        "        self.lr = lr\n",
        "        self.U = np.random.normal(scale=1./self.k, size=(rating_matrix.shape[0], self.k))\n",
        "        self.V = np.random.normal(scale=1./self.k, size=(self.k, rating_matrix.shape[1]))\n",
        "        self.b_u = np.zeros(rating_matrix.shape[0])\n",
        "        self.b_i = np.zeros(rating_matrix.shape[1])\n",
        "        self.b = np.mean(rating_matrix[np.where(rating_matrix != 0)])\n",
        "        self.mean_squared_errors = []\n",
        "        self.mean_squared_errors_val = []\n",
        "    # fitting the model\n",
        "    def fit(self):\n",
        "        for it in range(self.max_epochs):\n",
        "            for i in range(len(self.rating_matrix)):\n",
        "                for j in range(len(self.rating_matrix[i])):\n",
        "                    if self.rating_matrix[i][j] > 0:\n",
        "                        eij = self.rating_matrix[i][j] - (self.predict_rating_user_movie(i, j))\n",
        "                        self.b_u[i] += self.lr * (eij - self.lmbda * self.b_u[i])\n",
        "                        self.b_i[j] += self.lr * (eij - self.lmbda * self.b_i[j])\n",
        "                        self.U[i,:] += self.lr * (eij * self.V[:,j] - self.lmbda * self.U[i,:])\n",
        "                        self.V[:,j] += self.lr * (eij * self.U[i,:] - self.lmbda * self.V[:,j])\n",
        "\n",
        "            self.mean_squared_errors.append(self.mse_training(self.rating_matrix, self.predict()))\n",
        "            self.mean_squared_errors_val.append(self.mse_validation(self.rating_matrix, self.rating_matrix_val, self.predict()))\n",
        "\n",
        "    # reporting model's mse using the training set\n",
        "    def mse_training(self, true_rating, pred_rating):\n",
        "        '''\n",
        "        pred_matrix: the predict matrix of rating (row: user, col: movie)\n",
        "        return: mean squared error\n",
        "        '''\n",
        "        error = 0\n",
        "        for rt, rp in zip(true_rating, pred_rating):\n",
        "            for vt, vp in zip(rt, rp):\n",
        "                if vt > 0:\n",
        "                    error += pow(vt - vp, 2)\n",
        "        return np.sqrt(error)\n",
        "\n",
        "    # reporting model's mse using testing set\n",
        "    def mse_validation(self, true_rating, test_rating, pred_rating):\n",
        "        '''\n",
        "        pred_matrix: the predict matrix of rating (row: user, col: movie)\n",
        "        return: mean squared error\n",
        "        '''\n",
        "        error = 0\n",
        "        for rt, rtt, rp in zip(true_rating, test_rating, pred_rating):\n",
        "            for vt, vtt, vp in zip(rt, rtt, rp):\n",
        "                if vt == -1:\n",
        "                    error += pow(vtt - vp, 2)\n",
        "        return np.sqrt(error)\n",
        "\n",
        "    # predicting the user's movie rating\n",
        "    def predict_rating_user_movie(self, i, j):\n",
        "        '''\n",
        "        i: user row\n",
        "        j: movie col\n",
        "        '''\n",
        "        return self.b + self.b_u[i] + self.b_i[j] + np.dot(self.U[i,:],self.V[:,j])\n",
        "\n",
        "    # rating prediction\n",
        "    def predict(self):\n",
        "        '''\n",
        "        return: rating prediction\n",
        "        '''\n",
        "        return self.b + self.b_u[:,np.newaxis] + self.b_i[np.newaxis:, ] + np.dot(self.U, self.V)\n",
        "\n",
        "    # plotting model's loss\n",
        "    def plot_loss(self):\n",
        "        iters = [i for i in range(self.max_epochs)]\n",
        "        plt.xlabel(\"Iterations\")\n",
        "        plt.ylabel(\"Mean Squared Error\")\n",
        "        plt.plot(iters, self.mean_squared_errors)\n",
        "        plt.plot(iters, self.mean_squared_errors_val)\n",
        "\n",
        "    # mean square error result\n",
        "    def mse_result(self):\n",
        "        return self.mean_squared_errors[-1]\n",
        "\n",
        ""
      ]
    },
    {
      "cell_type": "code",
      "execution_count": 8,
      "metadata": {
        "collapsed": true,
        "id": "BgLJ2qQ70cNz"
      },
      "outputs": [],
      "source": [
        "# splitting data into train and validation sets\n",
        "def create_training_validation_set(rating_matrix):\n",
        "    r_test = rating_matrix.copy()\n",
        "    r_train = rating_matrix.copy()\n",
        "\n",
        "    for r in range(0,r_train.shape[0]):\n",
        "        for c in range(0, r_train.shape[1]):\n",
        "            if np.random.rand()<0.2 and r_train[r,c] != 0:\n",
        "                r_train[r,c] = -1\n",
        "\n",
        "    return np.asarray(r_train), r_test\n",
        "\n",
        "rating_matrix_training, rating_matrix_test = create_training_validation_set(rating_matrix)"
      ]
    },
    {
      "cell_type": "code",
      "execution_count": 9,
      "metadata": {
        "collapsed": true,
        "id": "9GTRFg4G0cN0"
      },
      "outputs": [],
      "source": [
        "# finding top movies\n",
        "def find_top_close_movies(movie_idx, idx_movie, pred_rating, movie_name):\n",
        "    movie_to_check = pred_rating[:, movie_idx[movie_name]] # 'Star Wars (1977)'\n",
        "    df1 = pd.DataFrame(pred_rating)\n",
        "    df2 = pd.DataFrame(movie_to_check)\n",
        "    df = df1.corrwith(df2[0], axis=0)\n",
        "    results = df.sort_values(ascending=False).head(4)[1:]\n",
        "    for i, j in zip(list(results.index), results.values):\n",
        "        print(idx_movie[i], j)"
      ]
    },
    {
      "cell_type": "code",
      "execution_count": 10,
      "metadata": {
        "collapsed": true,
        "id": "pDmYDCbf0cN0"
      },
      "outputs": [],
      "source": [
        "# recommending movies\n",
        "def recommend_movies_to_user(idx_movie, pred_rating, user_id):\n",
        "    user_to_check = pred_rating[user_id, :]\n",
        "    df1 = pd.DataFrame(pred_rating)\n",
        "    df2 = pd.DataFrame(user_to_check)\n",
        "    df = df1.corrwith(df2[0], axis=1)\n",
        "    results = df.sort_values(ascending=False).head(6)[1:]\n",
        "\n",
        "    movie_index = []\n",
        "    for i in results.index:\n",
        "        movie_index.append(pred_rating[i,:])\n",
        "\n",
        "    movie_index = np.asarray(movie_index)\n",
        "\n",
        "    movie_index = np.mean(movie_index, axis=0)\n",
        "\n",
        "    results = pd.DataFrame(movie_index).sort_values(by=0, ascending=False).head(5)\n",
        "\n",
        "    for i, j in zip(list(results.index), results.values):\n",
        "\n",
        "        if user_to_check[i]:\n",
        "            try:\n",
        "                print(idx_movie[i])\n",
        "            except Exception as e:\n",
        "                pass"
      ]
    },
    {
      "cell_type": "markdown",
      "metadata": {
        "id": "Bo5Atswd0cN1"
      },
      "source": [
        "## Tune the hyperparameters"
      ]
    },
    {
      "cell_type": "markdown",
      "metadata": {
        "id": "7-_RI8Cz0cN1"
      },
      "source": [
        "You have to implement your own GridSerch method to tune the model  hyperparameters: k (number of latent features and weights), lmbda (regularization), max_epochs, lr (learning rate). You should then report  the training and the validation mean squared errors and plot the loss of your best model. Code snippets for doing each task are given below.  "
      ]
    },
    {
      "cell_type": "code",
      "execution_count": 11,
      "metadata": {
        "collapsed": true,
        "id": "T7Ir9c4W0cN2"
      },
      "outputs": [],
      "source": [
        "# grid search function\n",
        "def grid_search(parameters):\n",
        "    min_mse = 1000\n",
        "    best_parameters=[]\n",
        "    # loop over all parameters\n",
        "    for k in range( len( parameters ) ) :\n",
        "        # model with the kth parameter\n",
        "        model = MatrixFactorization(rating_matrix_training, rating_matrix_test,  parameters[k][0], parameters[k][1], max_epochs=parameters[k][2], lr=parameters[k][3])\n",
        "        # fit model\n",
        "        model.fit()\n",
        "        # predict labels\n",
        "        pred = model.predict()\n",
        "        # measure mse\n",
        "        curr_mse=model.mse_validation(rating_matrix_training, rating_matrix_test, pred)\n",
        "        # find the best parameters with the minimum mse\n",
        "        if min_mse > curr_mse :\n",
        "            min_mse = curr_mse\n",
        "            best_parameters=[parameters[k][0],parameters[k][1],parameters[k][2],parameters[k][3]]\n",
        "\n",
        "    print( \"Minimum mse achieved by our model through grid searching : \", min_mse )\n",
        "    return best_parameters\n",
        ""
      ]
    },
    {
      "cell_type": "code",
      "execution_count": 12,
      "metadata": {
        "colab": {
          "base_uri": "https://localhost:8080/"
        },
        "id": "MUGA-abs0cN2",
        "outputId": "9e22933d-0c4b-43db-cdbb-b4cbbead114e"
      },
      "outputs": [
        {
          "output_type": "stream",
          "name": "stdout",
          "text": [
            "Minimum mse achieved by our model through grid searching :  1000\n"
          ]
        }
      ],
      "source": [
        "import itertools\n",
        "# input your parameters\n",
        "k= []\n",
        "lmbda= []\n",
        "max_epochs=[]\n",
        "lr=[]\n",
        "# merge all parameters in one list\n",
        "parameters=[k,lmbda,max_epochs,lr]\n",
        "parameters= list(itertools.product(*parameters))\n",
        "\n",
        "# gridsearch\n",
        "best_parameters=grid_search(parameters)"
      ]
    },
    {
      "cell_type": "code",
      "execution_count": 14,
      "metadata": {
        "colab": {
          "base_uri": "https://localhost:8080/"
        },
        "id": "M7SvIgA30cN2",
        "outputId": "495ce40f-9b3c-49b8-d34f-3f5aa92381c3"
      },
      "outputs": [
        {
          "output_type": "execute_result",
          "data": {
            "text/plain": [
              "[]"
            ]
          },
          "metadata": {},
          "execution_count": 14
        }
      ],
      "source": [
        "# report best parameters\n",
        "best_parameters"
      ]
    },
    {
      "cell_type": "code",
      "execution_count": 17,
      "metadata": {
        "collapsed": true,
        "colab": {
          "base_uri": "https://localhost:8080/"
        },
        "id": "yl-oSf9e0cN3",
        "outputId": "58be12b2-88be-43dd-a8e8-794b646b8c4a"
      },
      "outputs": [
        {
          "output_type": "execute_result",
          "data": {
            "text/plain": [
              "135.1578619364854"
            ]
          },
          "metadata": {},
          "execution_count": 17
        }
      ],
      "source": [
        "# pass the best parameters to MatrixFactorization model\n",
        "best_model = MatrixFactorization(rating_matrix_training, rating_matrix_test,  k=5, lmbda=0.01, max_epochs=10, lr=0.01)\n",
        "# fit model\n",
        "best_model.fit()\n",
        "# predict labels\n",
        "pred = best_model.predict()\n",
        "# report best model mse score\n",
        "best_model.mse_validation(rating_matrix_training, rating_matrix_test, pred)"
      ]
    },
    {
      "cell_type": "code",
      "execution_count": 18,
      "metadata": {
        "collapsed": true,
        "colab": {
          "base_uri": "https://localhost:8080/",
          "height": 449
        },
        "id": "W6dfjLbl0cN3",
        "outputId": "2c93ae1b-8fe3-4d96-f5f7-5b360e62a7c8"
      },
      "outputs": [
        {
          "output_type": "display_data",
          "data": {
            "text/plain": [
              "<Figure size 640x480 with 1 Axes>"
            ],
            "image/png": "[encoded data removed]"
          },
          "metadata": {}
        }
      ],
      "source": [
        "# plot the model loss\n",
        "best_model.plot_loss()"
      ]
    },
    {
      "cell_type": "code",
      "execution_count": 19,
      "metadata": {
        "collapsed": true,
        "colab": {
          "base_uri": "https://localhost:8080/"
        },
        "id": "QsYCjaMp0cN4",
        "outputId": "89535dab-e97b-4f16-cfaa-fbefcf65c6e8"
      },
      "outputs": [
        {
          "output_type": "execute_result",
          "data": {
            "text/plain": [
              "247.2174051393278"
            ]
          },
          "metadata": {},
          "execution_count": 19
        }
      ],
      "source": [
        "# report the best model mse_results\n",
        "best_model.mse_result()"
      ]
    },
    {
      "cell_type": "markdown",
      "metadata": {
        "id": "H3g_iCip0cN4"
      },
      "source": [
        "## Choose a Movie"
      ]
    },
    {
      "cell_type": "code",
      "execution_count": 20,
      "metadata": {
        "collapsed": true,
        "colab": {
          "base_uri": "https://localhost:8080/"
        },
        "id": "CKOhbpW10cN4",
        "outputId": "11541fd2-9e1a-4484-f692-6f65d3345f4c"
      },
      "outputs": [
        {
          "output_type": "stream",
          "name": "stdout",
          "text": [
            "Fantasia (1940) 0.9992224950884698\n",
            "The Courtyard (1995) 0.9985276813417324\n",
            "Keys to Tulsa (1997) 0.9976087256448886\n"
          ]
        }
      ],
      "source": [
        "find_top_close_movies(movie_idx, idx_movie, pred, 'Star Wars (1977)')"
      ]
    },
    {
      "cell_type": "markdown",
      "metadata": {
        "id": "aG35AyJz0cN5"
      },
      "source": [
        "## Choose randomly a user id"
      ]
    },
    {
      "cell_type": "code",
      "execution_count": 21,
      "metadata": {
        "collapsed": true,
        "colab": {
          "base_uri": "https://localhost:8080/"
        },
        "id": "VYvYqMBq0cN5",
        "outputId": "ad008cfc-77a4-4010-a001-8dc7ca037f5b"
      },
      "outputs": [
        {
          "output_type": "stream",
          "name": "stdout",
          "text": [
            "Monty Python and the Holy Grail (1974)\n",
            "Horseman on the Roof, The (Hussard sur le toit, Le) (1995)\n",
            "Spy Hard (1996)\n",
            "Seven (Se7en) (1995)\n",
            "Santa Clause, The (1994)\n"
          ]
        }
      ],
      "source": [
        "recommend_movies_to_user(idx_movie, pred, 32)"
      ]
    },
    {
      "cell_type": "markdown",
      "metadata": {
        "id": "kNhZRD4S0cN8"
      },
      "source": [
        "## Exercise 3: Clustering"
      ]
    },
    {
      "cell_type": "markdown",
      "metadata": {
        "id": "XW7bkV1C0cN8"
      },
      "source": [
        "In this assignment you will run k-means clustering and PCA on a dataset of reviews of points of interests (POIs) on TripAdvisor. The dataset tripadvisor_review.csv consists of traveler's reviews on POIs in East Asia from 10 different categories (beaches, monuments, churches, venues, etc.). Each traveler rating is mapped into a 5-point scale as follows: Excellent(4), Very Good(3), Average(2), Poor(1), and Terrible(0)."
      ]
    },
    {
      "cell_type": "markdown",
      "metadata": {
        "id": "PBwMxN620cN9"
      },
      "source": [
        "Run k-means clustering on the TripAdvisor dataset provided using the Euclidean distance as a distance metric. Vary the number of clusters K from 2 to 10. Plot the clustering cost (i.e., inertia) against the number of clusters K. Report the value of K you could deduce from  your plot (if any). Make sure you do multiple runs of the algorithm with different initializations to ensure that you don’t get stuck in a local optimum."
      ]
    },
    {
      "cell_type": "code",
      "execution_count": 24,
      "metadata": {
        "colab": {
          "base_uri": "https://localhost:8080/",
          "height": 223
        },
        "id": "oReYXT2E0cN-",
        "outputId": "cc73aee5-8fe3-4119-d834-d6fe72306772"
      },
      "outputs": [
        {
          "output_type": "execute_result",
          "data": {
            "text/plain": [
              "   Category 1  Category 2  Category 3  Category 4  Category 5  Category 6  \\\n",
              "0        0.93         1.8        2.29        0.62        0.80        2.42   \n",
              "1        1.02         2.2        2.66        0.64        1.42        3.18   \n",
              "2        1.22         0.8        0.54        0.53        0.24        1.54   \n",
              "3        0.45         1.8        0.29        0.57        0.46        1.52   \n",
              "4        0.51         1.2        1.18        0.57        1.54        2.02   \n",
              "\n",
              "   Category 7  Category 8  Category 9  Category 10  \n",
              "0        3.19        2.79        1.82         2.42  \n",
              "1        3.21        2.63        1.86         2.32  \n",
              "2        3.18        2.80        1.31         2.50  \n",
              "3        3.18        2.96        1.57         2.86  \n",
              "4        3.18        2.78        1.18         2.54  "
            ],
            "text/html": [
              "\n",
              "  <div id=\"df-f71d6187-98cd-4a7c-a05b-99fe27fdb2ef\" class=\"colab-df-container\">\n",
              "    <div>\n",
              "<style scoped>\n",
              "    .dataframe tbody tr th:only-of-type {\n",
              "        vertical-align: middle;\n",
              "    }\n",
              "\n",
              "    .dataframe tbody tr th {\n",
              "        vertical-align: top;\n",
              "    }\n",
              "\n",
              "    .dataframe thead th {\n",
              "        text-align: right;\n",
              "    }\n",
              "</style>\n",
              "<table border=\"1\" class=\"dataframe\">\n",
              "  <thead>\n",
              "    <tr style=\"text-align: right;\">\n",
              "      <th></th>\n",
              "      <th>Category 1</th>\n",
              "      <th>Category 2</th>\n",
              "      <th>Category 3</th>\n",
              "      <th>Category 4</th>\n",
              "      <th>Category 5</th>\n",
              "      <th>Category 6</th>\n",
              "      <th>Category 7</th>\n",
              "      <th>Category 8</th>\n",
              "      <th>Category 9</th>\n",
              "      <th>Category 10</th>\n",
              "    </tr>\n",
              "  </thead>\n",
              "  <tbody>\n",
              "    <tr>\n",
              "      <th>0</th>\n",
              "      <td>0.93</td>\n",
              "      <td>1.8</td>\n",
              "      <td>2.29</td>\n",
              "      <td>0.62</td>\n",
              "      <td>0.80</td>\n",
              "      <td>2.42</td>\n",
              "      <td>3.19</td>\n",
              "      <td>2.79</td>\n",
              "      <td>1.82</td>\n",
              "      <td>2.42</td>\n",
              "    </tr>\n",
              "    <tr>\n",
              "      <th>1</th>\n",
              "      <td>1.02</td>\n",
              "      <td>2.2</td>\n",
              "      <td>2.66</td>\n",
              "      <td>0.64</td>\n",
              "      <td>1.42</td>\n",
              "      <td>3.18</td>\n",
              "      <td>3.21</td>\n",
              "      <td>2.63</td>\n",
              "      <td>1.86</td>\n",
              "      <td>2.32</td>\n",
              "    </tr>\n",
              "    <tr>\n",
              "      <th>2</th>\n",
              "      <td>1.22</td>\n",
              "      <td>0.8</td>\n",
              "      <td>0.54</td>\n",
              "      <td>0.53</td>\n",
              "      <td>0.24</td>\n",
              "      <td>1.54</td>\n",
              "      <td>3.18</td>\n",
              "      <td>2.80</td>\n",
              "      <td>1.31</td>\n",
              "      <td>2.50</td>\n",
              "    </tr>\n",
              "    <tr>\n",
              "      <th>3</th>\n",
              "      <td>0.45</td>\n",
              "      <td>1.8</td>\n",
              "      <td>0.29</td>\n",
              "      <td>0.57</td>\n",
              "      <td>0.46</td>\n",
              "      <td>1.52</td>\n",
              "      <td>3.18</td>\n",
              "      <td>2.96</td>\n",
              "      <td>1.57</td>\n",
              "      <td>2.86</td>\n",
              "    </tr>\n",
              "    <tr>\n",
              "      <th>4</th>\n",
              "      <td>0.51</td>\n",
              "      <td>1.2</td>\n",
              "      <td>1.18</td>\n",
              "      <td>0.57</td>\n",
              "      <td>1.54</td>\n",
              "      <td>2.02</td>\n",
              "      <td>3.18</td>\n",
              "      <td>2.78</td>\n",
              "      <td>1.18</td>\n",
              "      <td>2.54</td>\n",
              "    </tr>\n",
              "  </tbody>\n",
              "</table>\n",
              "</div>\n",
              "    <div class=\"colab-df-buttons\">\n",
              "\n",
              "  <div class=\"colab-df-container\">\n",
              "    <button class=\"colab-df-convert\" onclick=\"convertToInteractive('df-f71d6187-98cd-4a7c-a05b-99fe27fdb2ef')\"\n",
              "            title=\"Convert this dataframe to an interactive table.\"\n",
              "            style=\"display:none;\">\n",
              "\n",
              "  <svg xmlns=\"http://www.w3.org/2000/svg\" height=\"24px\" viewBox=\"0 -960 960 960\">\n",
              "    <path d=\"M120-120v-720h720v720H120Zm60-500h600v-160H180v160Zm220 220h160v-160H400v160Zm0 220h160v-160H400v160ZM180-400h160v-160H180v160Zm440 0h160v-160H620v160ZM180-180h160v-160H180v160Zm440 0h160v-160H620v160Z\"/>\n",
              "  </svg>\n",
              "    </button>\n",
              "\n",
              "  <style>\n",
              "    .colab-df-container {\n",
              "      display:flex;\n",
              "      gap: 12px;\n",
              "    }\n",
              "\n",
              "    .colab-df-convert {\n",
              "      background-color: #E8F0FE;\n",
              "      border: none;\n",
              "      border-radius: 50%;\n",
              "      cursor: pointer;\n",
              "      display: none;\n",
              "      fill: #1967D2;\n",
              "      height: 32px;\n",
              "      padding: 0 0 0 0;\n",
              "      width: 32px;\n",
              "    }\n",
              "\n",
              "    .colab-df-convert:hover {\n",
              "      background-color: #E2EBFA;\n",
              "      box-shadow: 0px 1px 2px rgba(60, 64, 67, 0.3), 0px 1px 3px 1px rgba(60, 64, 67, 0.15);\n",
              "      fill: #174EA6;\n",
              "    }\n",
              "\n",
              "    .colab-df-buttons div {\n",
              "      margin-bottom: 4px;\n",
              "    }\n",
              "\n",
              "    [theme=dark] .colab-df-convert {\n",
              "      background-color: #3B4455;\n",
              "      fill: #D2E3FC;\n",
              "    }\n",
              "\n",
              "    [theme=dark] .colab-df-convert:hover {\n",
              "      background-color: #434B5C;\n",
              "      box-shadow: 0px 1px 3px 1px rgba(0, 0, 0, 0.15);\n",
              "      filter: drop-shadow(0px 1px 2px rgba(0, 0, 0, 0.3));\n",
              "      fill: #FFFFFF;\n",
              "    }\n",
              "  </style>\n",
              "\n",
              "    <script>\n",
              "      const buttonEl =\n",
              "        document.querySelector('#df-f71d6187-98cd-4a7c-a05b-99fe27fdb2ef button.colab-df-convert');\n",
              "      buttonEl.style.display =\n",
              "        google.colab.kernel.accessAllowed ? 'block' : 'none';\n",
              "\n",
              "      async function convertToInteractive(key) {\n",
              "        const element = document.querySelector('#df-f71d6187-98cd-4a7c-a05b-99fe27fdb2ef');\n",
              "        const dataTable =\n",
              "          await google.colab.kernel.invokeFunction('convertToInteractive',\n",
              "                                                    [key], {});\n",
              "        if (!dataTable) return;\n",
              "\n",
              "        const docLinkHtml = 'Like what you see? Visit the ' +\n",
              "          '<a target=\"_blank\" href=https://colab.research.google.com/notebooks/data_table.ipynb>data table notebook</a>'\n",
              "          + ' to learn more about interactive tables.';\n",
              "        element.innerHTML = '';\n",
              "        dataTable['output_type'] = 'display_data';\n",
              "        await google.colab.output.renderOutput(dataTable, element);\n",
              "        const docLink = document.createElement('div');\n",
              "        docLink.innerHTML = docLinkHtml;\n",
              "        element.appendChild(docLink);\n",
              "      }\n",
              "    </script>\n",
              "  </div>\n",
              "\n",
              "\n",
              "<div id=\"df-f094e82b-e2ae-4a74-a187-31a9d5d26cbb\">\n",
              "  <button class=\"colab-df-quickchart\" onclick=\"quickchart('df-f094e82b-e2ae-4a74-a187-31a9d5d26cbb')\"\n",
              "            title=\"Suggest charts.\"\n",
              "            style=\"display:none;\">\n",
              "\n",
              "<svg xmlns=\"http://www.w3.org/2000/svg\" height=\"24px\"viewBox=\"0 0 24 24\"\n",
              "     width=\"24px\">\n",
              "    <g>\n",
              "        <path d=\"M19 3H5c-1.1 0-2 .9-2 2v14c0 1.1.9 2 2 2h14c1.1 0 2-.9 2-2V5c0-1.1-.9-2-2-2zM9 17H7v-7h2v7zm4 0h-2V7h2v10zm4 0h-2v-4h2v4z\"/>\n",
              "    </g>\n",
              "</svg>\n",
              "  </button>\n",
              "\n",
              "<style>\n",
              "  .colab-df-quickchart {\n",
              "      --bg-color: #E8F0FE;\n",
              "      --fill-color: #1967D2;\n",
              "      --hover-bg-color: #E2EBFA;\n",
              "      --hover-fill-color: #174EA6;\n",
              "      --disabled-fill-color: #AAA;\n",
              "      --disabled-bg-color: #DDD;\n",
              "  }\n",
              "\n",
              "  [theme=dark] .colab-df-quickchart {\n",
              "      --bg-color: #3B4455;\n",
              "      --fill-color: #D2E3FC;\n",
              "      --hover-bg-color: #434B5C;\n",
              "      --hover-fill-color: #FFFFFF;\n",
              "      --disabled-bg-color: #3B4455;\n",
              "      --disabled-fill-color: #666;\n",
              "  }\n",
              "\n",
              "  .colab-df-quickchart {\n",
              "    background-color: var(--bg-color);\n",
              "    border: none;\n",
              "    border-radius: 50%;\n",
              "    cursor: pointer;\n",
              "    display: none;\n",
              "    fill: var(--fill-color);\n",
              "    height: 32px;\n",
              "    padding: 0;\n",
              "    width: 32px;\n",
              "  }\n",
              "\n",
              "  .colab-df-quickchart:hover {\n",
              "    background-color: var(--hover-bg-color);\n",
              "    box-shadow: 0 1px 2px rgba(60, 64, 67, 0.3), 0 1px 3px 1px rgba(60, 64, 67, 0.15);\n",
              "    fill: var(--button-hover-fill-color);\n",
              "  }\n",
              "\n",
              "  .colab-df-quickchart-complete:disabled,\n",
              "  .colab-df-quickchart-complete:disabled:hover {\n",
              "    background-color: var(--disabled-bg-color);\n",
              "    fill: var(--disabled-fill-color);\n",
              "    box-shadow: none;\n",
              "  }\n",
              "\n",
              "  .colab-df-spinner {\n",
              "    border: 2px solid var(--fill-color);\n",
              "    border-color: transparent;\n",
              "    border-bottom-color: var(--fill-color);\n",
              "    animation:\n",
              "      spin 1s steps(1) infinite;\n",
              "  }\n",
              "\n",
              "  @keyframes spin {\n",
              "    0% {\n",
              "      border-color: transparent;\n",
              "      border-bottom-color: var(--fill-color);\n",
              "      border-left-color: var(--fill-color);\n",
              "    }\n",
              "    20% {\n",
              "      border-color: transparent;\n",
              "      border-left-color: var(--fill-color);\n",
              "      border-top-color: var(--fill-color);\n",
              "    }\n",
              "    30% {\n",
              "      border-color: transparent;\n",
              "      border-left-color: var(--fill-color);\n",
              "      border-top-color: var(--fill-color);\n",
              "      border-right-color: var(--fill-color);\n",
              "    }\n",
              "    40% {\n",
              "      border-color: transparent;\n",
              "      border-right-color: var(--fill-color);\n",
              "      border-top-color: var(--fill-color);\n",
              "    }\n",
              "    60% {\n",
              "      border-color: transparent;\n",
              "      border-right-color: var(--fill-color);\n",
              "    }\n",
              "    80% {\n",
              "      border-color: transparent;\n",
              "      border-right-color: var(--fill-color);\n",
              "      border-bottom-color: var(--fill-color);\n",
              "    }\n",
              "    90% {\n",
              "      border-color: transparent;\n",
              "      border-bottom-color: var(--fill-color);\n",
              "    }\n",
              "  }\n",
              "</style>\n",
              "\n",
              "  <script>\n",
              "    async function quickchart(key) {\n",
              "      const quickchartButtonEl =\n",
              "        document.querySelector('#' + key + ' button');\n",
              "      quickchartButtonEl.disabled = true;  // To prevent multiple clicks.\n",
              "      quickchartButtonEl.classList.add('colab-df-spinner');\n",
              "      try {\n",
              "        const charts = await google.colab.kernel.invokeFunction(\n",
              "            'suggestCharts', [key], {});\n",
              "      } catch (error) {\n",
              "        console.error('Error during call to suggestCharts:', error);\n",
              "      }\n",
              "      quickchartButtonEl.classList.remove('colab-df-spinner');\n",
              "      quickchartButtonEl.classList.add('colab-df-quickchart-complete');\n",
              "    }\n",
              "    (() => {\n",
              "      let quickchartButtonEl =\n",
              "        document.querySelector('#df-f094e82b-e2ae-4a74-a187-31a9d5d26cbb button');\n",
              "      quickchartButtonEl.style.display =\n",
              "        google.colab.kernel.accessAllowed ? 'block' : 'none';\n",
              "    })();\n",
              "  </script>\n",
              "</div>\n",
              "    </div>\n",
              "  </div>\n"
            ]
          },
          "metadata": {},
          "execution_count": 24
        }
      ],
      "source": [
        "from sklearn.cluster import KMeans\n",
        "import matplotlib\n",
        "# loading data\n",
        "ta_data = pd.read_csv('/content/tripadvisor_review.csv')\n",
        "# features\n",
        "X = ta_data.drop('User ID', axis=1)\n",
        "X.head()"
      ]
    },
    {
      "cell_type": "code",
      "execution_count": 26,
      "metadata": {
        "colab": {
          "base_uri": "https://localhost:8080/",
          "height": 784
        },
        "id": "rsRhbap40cOA",
        "outputId": "4c3252cc-c51f-4735-b441-d6829bbc4602"
      },
      "outputs": [
        {
          "output_type": "stream",
          "name": "stderr",
          "text": [
            "/usr/local/lib/python3.10/dist-packages/sklearn/cluster/_kmeans.py:870: FutureWarning: The default value of `n_init` will change from 10 to 'auto' in 1.4. Set the value of `n_init` explicitly to suppress the warning\n",
            "  warnings.warn(\n",
            "/usr/local/lib/python3.10/dist-packages/sklearn/cluster/_kmeans.py:870: FutureWarning: The default value of `n_init` will change from 10 to 'auto' in 1.4. Set the value of `n_init` explicitly to suppress the warning\n",
            "  warnings.warn(\n",
            "/usr/local/lib/python3.10/dist-packages/sklearn/cluster/_kmeans.py:870: FutureWarning: The default value of `n_init` will change from 10 to 'auto' in 1.4. Set the value of `n_init` explicitly to suppress the warning\n",
            "  warnings.warn(\n",
            "/usr/local/lib/python3.10/dist-packages/sklearn/cluster/_kmeans.py:870: FutureWarning: The default value of `n_init` will change from 10 to 'auto' in 1.4. Set the value of `n_init` explicitly to suppress the warning\n",
            "  warnings.warn(\n",
            "/usr/local/lib/python3.10/dist-packages/sklearn/cluster/_kmeans.py:870: FutureWarning: The default value of `n_init` will change from 10 to 'auto' in 1.4. Set the value of `n_init` explicitly to suppress the warning\n",
            "  warnings.warn(\n",
            "/usr/local/lib/python3.10/dist-packages/sklearn/cluster/_kmeans.py:870: FutureWarning: The default value of `n_init` will change from 10 to 'auto' in 1.4. Set the value of `n_init` explicitly to suppress the warning\n",
            "  warnings.warn(\n",
            "/usr/local/lib/python3.10/dist-packages/sklearn/cluster/_kmeans.py:870: FutureWarning: The default value of `n_init` will change from 10 to 'auto' in 1.4. Set the value of `n_init` explicitly to suppress the warning\n",
            "  warnings.warn(\n",
            "/usr/local/lib/python3.10/dist-packages/sklearn/cluster/_kmeans.py:870: FutureWarning: The default value of `n_init` will change from 10 to 'auto' in 1.4. Set the value of `n_init` explicitly to suppress the warning\n",
            "  warnings.warn(\n",
            "/usr/local/lib/python3.10/dist-packages/sklearn/cluster/_kmeans.py:870: FutureWarning: The default value of `n_init` will change from 10 to 'auto' in 1.4. Set the value of `n_init` explicitly to suppress the warning\n",
            "  warnings.warn(\n"
          ]
        },
        {
          "output_type": "display_data",
          "data": {
            "text/plain": [
              "<Figure size 640x480 with 1 Axes>"
            ],
            "image/png": "[encoded data removed]"
          },
          "metadata": {}
        }
      ],
      "source": [
        "ks = range(2, 11)\n",
        "inertias = []\n",
        "for k in ks:\n",
        "    # create a KMeans instance with k clusters: model\n",
        "    model =KMeans(n_clusters=k, random_state=42)\n",
        "    # fit model to X\n",
        "    model.fit(X)\n",
        "    # append the inertia to the list of inertias\n",
        "    inertias.append(model.inertia_)\n",
        "\n",
        "plt.plot(ks, inertias, '-o', color='red')\n",
        "plt.xlabel('number of clusters, k')\n",
        "plt.ylabel('inertia')\n",
        "plt.xticks(ks)\n",
        "plt.show()"
      ]
    },
    {
      "cell_type": "markdown",
      "metadata": {
        "id": "On2UYV820cOB"
      },
      "source": [
        "## Exercise 4: PCA"
      ]
    },
    {
      "cell_type": "markdown",
      "metadata": {
        "id": "GO_Kv5du0cOB"
      },
      "source": [
        "Run Principal Component Analysis (PCA) on the TripAdvisor dataset and project the data into the first two principal components. Plot the dataset by projecting it on these two components and color the travlers based on their best cluster labels from exercise 1."
      ]
    },
    {
      "cell_type": "code",
      "execution_count": 27,
      "metadata": {
        "id": "vHLYN6vj0cOC"
      },
      "outputs": [],
      "source": [
        "from sklearn.decomposition import PCA\n",
        "import matplotlib\n",
        "import seaborn as sns\n",
        "\n",
        "# create a PCA instance: pca\n",
        "pca = PCA(n_components=2)\n",
        "principalComponents = pca.fit_transform(X)\n",
        "# save components to a DataFrame\n",
        "PCA_components = pd.DataFrame(principalComponents)\n",
        "PCA_components.rename(columns = {0:'Component1', 1:'Component2'}, inplace = True)"
      ]
    },
    {
      "cell_type": "code",
      "execution_count": 28,
      "metadata": {
        "collapsed": true,
        "colab": {
          "base_uri": "https://localhost:8080/",
          "height": 784
        },
        "id": "WjTQ2NUV0cOC",
        "outputId": "77678760-9cb9-4a81-8c84-59e17ae83cb2"
      },
      "outputs": [
        {
          "output_type": "stream",
          "name": "stderr",
          "text": [
            "/usr/local/lib/python3.10/dist-packages/sklearn/cluster/_kmeans.py:870: FutureWarning: The default value of `n_init` will change from 10 to 'auto' in 1.4. Set the value of `n_init` explicitly to suppress the warning\n",
            "  warnings.warn(\n",
            "/usr/local/lib/python3.10/dist-packages/sklearn/cluster/_kmeans.py:870: FutureWarning: The default value of `n_init` will change from 10 to 'auto' in 1.4. Set the value of `n_init` explicitly to suppress the warning\n",
            "  warnings.warn(\n",
            "/usr/local/lib/python3.10/dist-packages/sklearn/cluster/_kmeans.py:870: FutureWarning: The default value of `n_init` will change from 10 to 'auto' in 1.4. Set the value of `n_init` explicitly to suppress the warning\n",
            "  warnings.warn(\n",
            "/usr/local/lib/python3.10/dist-packages/sklearn/cluster/_kmeans.py:870: FutureWarning: The default value of `n_init` will change from 10 to 'auto' in 1.4. Set the value of `n_init` explicitly to suppress the warning\n",
            "  warnings.warn(\n",
            "/usr/local/lib/python3.10/dist-packages/sklearn/cluster/_kmeans.py:870: FutureWarning: The default value of `n_init` will change from 10 to 'auto' in 1.4. Set the value of `n_init` explicitly to suppress the warning\n",
            "  warnings.warn(\n",
            "/usr/local/lib/python3.10/dist-packages/sklearn/cluster/_kmeans.py:870: FutureWarning: The default value of `n_init` will change from 10 to 'auto' in 1.4. Set the value of `n_init` explicitly to suppress the warning\n",
            "  warnings.warn(\n",
            "/usr/local/lib/python3.10/dist-packages/sklearn/cluster/_kmeans.py:870: FutureWarning: The default value of `n_init` will change from 10 to 'auto' in 1.4. Set the value of `n_init` explicitly to suppress the warning\n",
            "  warnings.warn(\n",
            "/usr/local/lib/python3.10/dist-packages/sklearn/cluster/_kmeans.py:870: FutureWarning: The default value of `n_init` will change from 10 to 'auto' in 1.4. Set the value of `n_init` explicitly to suppress the warning\n",
            "  warnings.warn(\n",
            "/usr/local/lib/python3.10/dist-packages/sklearn/cluster/_kmeans.py:870: FutureWarning: The default value of `n_init` will change from 10 to 'auto' in 1.4. Set the value of `n_init` explicitly to suppress the warning\n",
            "  warnings.warn(\n"
          ]
        },
        {
          "output_type": "display_data",
          "data": {
            "text/plain": [
              "<Figure size 640x480 with 1 Axes>"
            ],
            "image/png": "[encoded data removed]"
          },
          "metadata": {}
        }
      ],
      "source": [
        "ks = range(2, 11)\n",
        "inertias = []\n",
        "for k in ks:\n",
        "    # create a KMeans instance with k clusters: model\n",
        "    model =KMeans(n_clusters=k, random_state=42)\n",
        "\n",
        "    # fit model to samples\n",
        "    model.fit(X)\n",
        "\n",
        "    # append the inertia to the list of inertias\n",
        "    inertias.append(model.inertia_)\n",
        "\n",
        "plt.plot(ks, inertias, '-o', color='red')\n",
        "plt.xlabel('number of clusters, k')\n",
        "plt.ylabel('inertia')\n",
        "plt.xticks(ks)\n",
        "plt.show()"
      ]
    },
    {
      "cell_type": "code",
      "source": [
        "!pip install seaborn --upgrade\n"
      ],
      "metadata": {
        "colab": {
          "base_uri": "https://localhost:8080/"
        },
        "id": "1K_flCrx9rV8",
        "outputId": "393ae9fd-9a6b-49b1-8f87-2046a1ebdce5"
      },
      "execution_count": 30,
      "outputs": [
        {
          "output_type": "stream",
          "name": "stdout",
          "text": [
            "Requirement already satisfied: seaborn in /usr/local/lib/python3.10/dist-packages (0.12.2)\n",
            "Requirement already satisfied: numpy!=1.24.0,>=1.17 in /usr/local/lib/python3.10/dist-packages (from seaborn) (1.23.5)\n",
            "Requirement already satisfied: pandas>=0.25 in /usr/local/lib/python3.10/dist-packages (from seaborn) (1.5.3)\n",
            "Requirement already satisfied: matplotlib!=3.6.1,>=3.1 in /usr/local/lib/python3.10/dist-packages (from seaborn) (3.7.1)\n",
            "Requirement already satisfied: contourpy>=1.0.1 in /usr/local/lib/python3.10/dist-packages (from matplotlib!=3.6.1,>=3.1->seaborn) (1.1.0)\n",
            "Requirement already satisfied: cycler>=0.10 in /usr/local/lib/python3.10/dist-packages (from matplotlib!=3.6.1,>=3.1->seaborn) (0.11.0)\n",
            "Requirement already satisfied: fonttools>=4.22.0 in /usr/local/lib/python3.10/dist-packages (from matplotlib!=3.6.1,>=3.1->seaborn) (4.42.1)\n",
            "Requirement already satisfied: kiwisolver>=1.0.1 in /usr/local/lib/python3.10/dist-packages (from matplotlib!=3.6.1,>=3.1->seaborn) (1.4.5)\n",
            "Requirement already satisfied: packaging>=20.0 in /usr/local/lib/python3.10/dist-packages (from matplotlib!=3.6.1,>=3.1->seaborn) (23.1)\n",
            "Requirement already satisfied: pillow>=6.2.0 in /usr/local/lib/python3.10/dist-packages (from matplotlib!=3.6.1,>=3.1->seaborn) (9.4.0)\n",
            "Requirement already satisfied: pyparsing>=2.3.1 in /usr/local/lib/python3.10/dist-packages (from matplotlib!=3.6.1,>=3.1->seaborn) (3.1.1)\n",
            "Requirement already satisfied: python-dateutil>=2.7 in /usr/local/lib/python3.10/dist-packages (from matplotlib!=3.6.1,>=3.1->seaborn) (2.8.2)\n",
            "Requirement already satisfied: pytz>=2020.1 in /usr/local/lib/python3.10/dist-packages (from pandas>=0.25->seaborn) (2023.3.post1)\n",
            "Requirement already satisfied: six>=1.5 in /usr/local/lib/python3.10/dist-packages (from python-dateutil>=2.7->matplotlib!=3.6.1,>=3.1->seaborn) (1.16.0)\n"
          ]
        }
      ]
    },
    {
      "cell_type": "code",
      "execution_count": 32,
      "metadata": {
        "colab": {
          "base_uri": "https://localhost:8080/",
          "height": 773
        },
        "id": "JVGS_dbx0cOD",
        "outputId": "6b8cfc7c-a9a4-48d8-9de3-2736f5090eea"
      },
      "outputs": [
        {
          "output_type": "stream",
          "name": "stderr",
          "text": [
            "/usr/local/lib/python3.10/dist-packages/sklearn/cluster/_kmeans.py:870: FutureWarning: The default value of `n_init` will change from 10 to 'auto' in 1.4. Set the value of `n_init` explicitly to suppress the warning\n",
            "  warnings.warn(\n"
          ]
        },
        {
          "output_type": "display_data",
          "data": {
            "text/plain": [
              "<Figure size 1000x800 with 1 Axes>"
            ],
            "image/png": "[encoded data removed]"
          },
          "metadata": {}
        }
      ],
      "source": [
        "# pass the best number of clusters (n_clusters) as you see fit from the previous plot\n",
        "kmeans_pca=KMeans(n_clusters=4)\n",
        "kmeans_pca.fit(PCA_components)\n",
        "# concatenate data with the PCA components\n",
        "df_pca_kmeans=pd.concat([X,PCA_components], axis=1)\n",
        "# best cluster labels\n",
        "df_pca_kmeans['Segment']=kmeans_pca.labels_\n",
        "# plots Axes\n",
        "x_axis=df_pca_kmeans['Component1']\n",
        "y_axis=df_pca_kmeans['Component2']\n",
        "# cluster plotting\n",
        "plt.figure(figsize=(10,8))\n",
        "sns.scatterplot(data=df_pca_kmeans, x='Component1', y='Component2', hue='Segment', palette='viridis')\n",
        "plt.title('Clusters by PCA Components')\n",
        "plt.show()"
      ]
    }
  ],
  "metadata": {
    "kernelspec": {
      "display_name": "Python 3",
      "language": "python",
      "name": "python3"
    },
    "language_info": {
      "codemirror_mode": {
        "name": "ipython",
        "version": 3
      },
      "file_extension": ".py",
      "mimetype": "text/x-python",
      "name": "python",
      "nbconvert_exporter": "python",
      "pygments_lexer": "ipython3",
      "version": "3.8.13"
    },
    "colab": {
      "provenance": []
    }
  },
  "nbformat": 4,
  "nbformat_minor": 0
}